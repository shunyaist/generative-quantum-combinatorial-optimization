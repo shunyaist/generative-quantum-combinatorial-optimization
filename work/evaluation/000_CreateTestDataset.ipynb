{
 "cells": [
  {
   "cell_type": "code",
   "execution_count": 21,
   "id": "9e2507bf-5cab-4499-9629-853a3c827ccb",
   "metadata": {},
   "outputs": [
    {
     "name": "stdout",
     "output_type": "stream",
     "text": [
      "/home/mshunya/001_Project/002_QGen/001_Work/MakeResult/.env/bin/python\n",
      "['/home/mshunya/.pyenv/versions/3.11.7/lib/python311.zip', '/home/mshunya/.pyenv/versions/3.11.7/lib/python3.11', '/home/mshunya/.pyenv/versions/3.11.7/lib/python3.11/lib-dynload', '', '/home/mshunya/001_Project/002_QGen/001_Work/MakeResult/.env/lib/python3.11/site-packages', '../../', '../../', '../../', '../../']\n"
     ]
    }
   ],
   "source": [
    "import sys\n",
    "print(sys.executable)\n",
    "\n",
    "sys.path.append('../../')\n",
    "print(sys.path)\n",
    "\n",
    "import pickle\n",
    "import tqdm\n",
    "import time\n",
    "import torch\n",
    "\n",
    "from gqco.data import generate_adj\n",
    "from gqco.utils import fix_seed, _get_answer\n",
    "from gqco.solve import brute_solver"
   ]
  },
  {
   "cell_type": "markdown",
   "id": "e8f8c520-9a75-4dca-a8e1-b5c841662abc",
   "metadata": {},
   "source": [
    "### Setups"
   ]
  },
  {
   "cell_type": "code",
   "execution_count": 2,
   "id": "a6c562e3-10f5-4ba7-9340-1108615b8fa9",
   "metadata": {},
   "outputs": [],
   "source": [
    "seed = 373\n",
    "num_problems = 1000\n",
    "\n",
    "size_list = [i for i in range(3, 11)]"
   ]
  },
  {
   "cell_type": "markdown",
   "id": "ae2d1796-53b0-4eee-bf84-09ec7bfa21f2",
   "metadata": {},
   "source": [
    "### Generation"
   ]
  },
  {
   "cell_type": "code",
   "execution_count": 3,
   "id": "98eccfee-cc89-43f2-9fb0-995ff1df4726",
   "metadata": {},
   "outputs": [],
   "source": [
    "adjs = {}\n",
    "\n",
    "for size in size_list:\n",
    "    tmp_adjs = []\n",
    "    for seed in range(num_problems):\n",
    "        adj = generate_adj(size, seed=seed*100+size)\n",
    "        tmp_adjs.append(adj)\n",
    "\n",
    "    adjs[size] = tmp_adjs"
   ]
  },
  {
   "cell_type": "code",
   "execution_count": 4,
   "id": "e4f97e28-24e8-49e4-8c18-18505b34bbc5",
   "metadata": {},
   "outputs": [],
   "source": [
    "with open('../../data/testdata.pkl', 'wb') as f:\n",
    "    pickle.dump(adjs, f)"
   ]
  },
  {
   "cell_type": "markdown",
   "id": "f4c0fc26-2abf-484e-8eeb-41bcaea54aec",
   "metadata": {},
   "source": [
    "## Graund truth"
   ]
  },
  {
   "cell_type": "code",
   "execution_count": 5,
   "id": "86a5c7ea-8771-4575-b5ec-905501285537",
   "metadata": {},
   "outputs": [
    {
     "name": "stderr",
     "output_type": "stream",
     "text": [
      "size: 3: 100%|████████████████████████████████████████████████████████████████████| 1000/1000 [00:00<00:00, 3049.56it/s]\n",
      "size: 4: 100%|█████████████████████████████████████████████████████████████████████| 1000/1000 [00:01<00:00, 895.17it/s]\n",
      "size: 5: 100%|█████████████████████████████████████████████████████████████████████| 1000/1000 [00:03<00:00, 290.11it/s]\n",
      "size: 6: 100%|██████████████████████████████████████████████████████████████████████| 1000/1000 [00:10<00:00, 96.48it/s]\n",
      "size: 7: 100%|██████████████████████████████████████████████████████████████████████| 1000/1000 [00:29<00:00, 33.64it/s]\n",
      "size: 8: 100%|██████████████████████████████████████████████████████████████████████| 1000/1000 [01:13<00:00, 13.55it/s]\n",
      "size: 9: 100%|██████████████████████████████████████████████████████████████████████| 1000/1000 [03:02<00:00,  5.47it/s]\n",
      "size: 10: 100%|█████████████████████████████████████████████████████████████████████| 1000/1000 [07:36<00:00,  2.19it/s]\n"
     ]
    }
   ],
   "source": [
    "ans = {}\n",
    "tms = {}\n",
    "\n",
    "for size in size_list:\n",
    "    _ans = []\n",
    "    _tms = []\n",
    "    \n",
    "    for adj in tqdm.tqdm(adjs[size], desc=f'size: {size}'):\n",
    "\n",
    "        _s = time.time()\n",
    "        dict_true = brute_solver(adj)\n",
    "        _e = time.time()\n",
    "\n",
    "        min_keys_true, min_val_true = _get_answer(dict_true, metric='min')\n",
    "\n",
    "        _ans.append(min_keys_true)\n",
    "        _tms.append(_e - _s)\n",
    "\n",
    "    ans[size] = _ans\n",
    "    tms[size] = _tms"
   ]
  },
  {
   "cell_type": "code",
   "execution_count": 6,
   "id": "69169c65-369d-4575-b949-f8d445a3b0f1",
   "metadata": {},
   "outputs": [],
   "source": [
    "with open('../../data/trueans.pkl', 'wb') as f:\n",
    "    pickle.dump({'answer': ans, 'time': tms}, f)"
   ]
  },
  {
   "cell_type": "markdown",
   "id": "fd46bd29-19fd-457a-acce-12d69c9561ad",
   "metadata": {},
   "source": [
    "## Degenerated data"
   ]
  },
  {
   "cell_type": "markdown",
   "id": "0cdb82b2-7d3d-43ca-b71a-a311bd5496a0",
   "metadata": {},
   "source": [
    "## double-degeneracy"
   ]
  },
  {
   "cell_type": "code",
   "execution_count": 20,
   "id": "8e4a5f7c-89e6-4f6d-b660-a11211d8b83c",
   "metadata": {},
   "outputs": [
    {
     "name": "stderr",
     "output_type": "stream",
     "text": [
      "size: 4: 100%|█████████████████████████████████████████████████████████████████████| 1000/1000 [00:01<00:00, 861.97it/s]\n"
     ]
    }
   ],
   "source": [
    "mask = torch.tensor([\n",
    "    [0, 1, 1, 1],\n",
    "    [0, 0, 1, 1],\n",
    "    [0, 0, 0, 1],\n",
    "    [0, 0, 0, 0]\n",
    "])\n",
    "\n",
    "adjs = {}\n",
    "for size in [4]:\n",
    "    tmp_adjs = []\n",
    "    for seed in range(num_problems):\n",
    "        adj = generate_adj(size, seed=seed*100+size)\n",
    "        adj = adj*mask\n",
    "        \n",
    "        tmp_adjs.append(adj)\n",
    "\n",
    "    adjs[size] = tmp_adjs\n",
    "\n",
    "with open('../../data/testdata_2deg.pkl', 'wb') as f:\n",
    "    pickle.dump(adjs, f)\n",
    "\n",
    "ans = {}\n",
    "tms = {}\n",
    "for size in [4]:\n",
    "    _ans = []\n",
    "    _tms = []\n",
    "    \n",
    "    for adj in tqdm.tqdm(adjs[size], desc=f'size: {size}'):\n",
    "\n",
    "        _s = time.time()\n",
    "        dict_true = brute_solver(adj)\n",
    "        _e = time.time()\n",
    "\n",
    "        min_keys_true, min_val_true = _get_answer(dict_true, metric='min')\n",
    "\n",
    "        _ans.append(min_keys_true)\n",
    "        _tms.append(_e - _s)\n",
    "\n",
    "    ans[size] = _ans\n",
    "    tms[size] = _tms\n",
    "\n",
    "with open('../../data/trueans_2deg.pkl', 'wb') as f:\n",
    "    pickle.dump({'answer': ans, 'time': tms}, f)"
   ]
  },
  {
   "cell_type": "markdown",
   "id": "3ad44ac8-d4ee-4457-b3f6-b3bf1d3eb360",
   "metadata": {},
   "source": [
    "## fourfold degeneracy"
   ]
  },
  {
   "cell_type": "code",
   "execution_count": 19,
   "id": "083466ca-3c62-4a23-a585-72b11609fe31",
   "metadata": {},
   "outputs": [
    {
     "name": "stderr",
     "output_type": "stream",
     "text": [
      "size: 4: 100%|█████████████████████████████████████████████████████████████████████| 1000/1000 [00:01<00:00, 852.54it/s]\n"
     ]
    }
   ],
   "source": [
    "mask = torch.tensor([\n",
    "    [0, 1, 0, 0],\n",
    "    [0, 0, 0, 0],\n",
    "    [0, 0, 0, 1],\n",
    "    [0, 0, 0, 0]\n",
    "])\n",
    "\n",
    "adjs = {}\n",
    "for size in [4]:\n",
    "    tmp_adjs = []\n",
    "    for seed in range(num_problems):\n",
    "        adj = generate_adj(size, seed=seed*100+size)\n",
    "        adj = adj*mask\n",
    "        \n",
    "        tmp_adjs.append(adj)\n",
    "\n",
    "    adjs[size] = tmp_adjs\n",
    "\n",
    "with open('../../data/testdata_4deg.pkl', 'wb') as f:\n",
    "    pickle.dump(adjs, f)\n",
    "\n",
    "ans = {}\n",
    "tms = {}\n",
    "for size in [4]:\n",
    "    _ans = []\n",
    "    _tms = []\n",
    "    \n",
    "    for adj in tqdm.tqdm(adjs[size], desc=f'size: {size}'):\n",
    "\n",
    "        _s = time.time()\n",
    "        dict_true = brute_solver(adj)\n",
    "        _e = time.time()\n",
    "\n",
    "        min_keys_true, min_val_true = _get_answer(dict_true, metric='min')\n",
    "\n",
    "        _ans.append(min_keys_true)\n",
    "        _tms.append(_e - _s)\n",
    "\n",
    "    ans[size] = _ans\n",
    "    tms[size] = _tms\n",
    "\n",
    "with open('../../data/trueans_4deg.pkl', 'wb') as f:\n",
    "    pickle.dump({'answer': ans, 'time': tms}, f)"
   ]
  },
  {
   "cell_type": "code",
   "execution_count": null,
   "id": "d5bfdc5f-b4f2-4388-a804-07f1fef13f6f",
   "metadata": {},
   "outputs": [],
   "source": []
  }
 ],
 "metadata": {
  "kernelspec": {
   "display_name": "Python (.env)",
   "language": "python",
   "name": ".env"
  },
  "language_info": {
   "codemirror_mode": {
    "name": "ipython",
    "version": 3
   },
   "file_extension": ".py",
   "mimetype": "text/x-python",
   "name": "python",
   "nbconvert_exporter": "python",
   "pygments_lexer": "ipython3",
   "version": "3.11.7"
  }
 },
 "nbformat": 4,
 "nbformat_minor": 5
}
