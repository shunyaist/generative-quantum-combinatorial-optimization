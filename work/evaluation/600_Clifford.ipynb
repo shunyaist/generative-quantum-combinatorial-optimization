{
 "cells": [
  {
   "cell_type": "code",
   "execution_count": 1,
   "id": "1229ce7b-6bec-480b-91f6-d2583f6e55cc",
   "metadata": {},
   "outputs": [
    {
     "name": "stdout",
     "output_type": "stream",
     "text": [
      "/home/mshunya/project/100_GQCO/GQCO/.env/bin/python\n"
     ]
    }
   ],
   "source": [
    "import sys\n",
    "print(sys.executable)\n",
    "\n",
    "sys.path.append('../../')"
   ]
  },
  {
   "cell_type": "code",
   "execution_count": 2,
   "id": "3a10e6ea-2a6b-4e85-be83-9568f00f294f",
   "metadata": {},
   "outputs": [],
   "source": [
    "import pickle\n",
    "import numpy as np\n",
    "import seaborn as sns\n",
    "import matplotlib.pyplot as plt\n",
    "import torch\n",
    "from IPython.display import display, Math\n",
    "from gqco.train import MyModel\n",
    "from gqco.utils import fix_seed, arange_token\n",
    "from gqco.data import generate_data\n",
    "from gqco.solve import solve_from_token, plot_from_dict\n",
    "from gqco.model import TransformerWithMoE"
   ]
  },
  {
   "cell_type": "code",
   "execution_count": 3,
   "id": "a4f359b4-6da6-4611-ba67-faf09ff73608",
   "metadata": {},
   "outputs": [],
   "source": [
    "def data_from_adj(adj, args, num_clone, device):\n",
    "    dataset = RandomGraphDatasetWithClone(adj, num_clone=num_clone, device=device)\n",
    "    dataset.x = dataset.x.half()\n",
    "    dataset.edge_attr = dataset.edge_attr.half()\n",
    "    record = Batch.from_data_list(dataset)\n",
    "    record['size'] = record['size'].tolist()[0]\n",
    "    record['len'] = dataset.len()\n",
    "\n",
    "    return adj, size, record"
   ]
  },
  {
   "cell_type": "code",
   "execution_count": 80,
   "id": "82697fe1-2bb0-4ac8-a234-a3b10e07253f",
   "metadata": {},
   "outputs": [],
   "source": [
    "task_path = '../../model/taskobjects.pkl'\n",
    "checkpoint_path = '../../model/merged_model.ckpt'\n",
    "testdata_path = '../../data/testdata.pkl'\n",
    "seed=0\n",
    "\n",
    "with open(task_path, 'rb') as f: \n",
    "    obj = pickle.load(f)\n",
    "taskobj = obj['task']\n",
    "args = obj['args']\n",
    "\n",
    "with open(testdata_path, 'rb') as f:\n",
    "    testdata = pickle.load(f)"
   ]
  },
  {
   "cell_type": "code",
   "execution_count": 5,
   "id": "d23b494f-659d-47ec-a187-4ac9691e0fbd",
   "metadata": {},
   "outputs": [],
   "source": [
    "model = TransformerWithMoE(args)\n",
    "model = MyModel.load_from_checkpoint(checkpoint_path, model=model, task=gqco, args=args)\n",
    "model = model.to('cuda')\n",
    "device = model.device"
   ]
  },
  {
   "cell_type": "code",
   "execution_count": 77,
   "id": "f5c684bc-d44b-451e-9f61-3cc263966a24",
   "metadata": {},
   "outputs": [],
   "source": [
    "size_list = [3,4,5,6,7,8,9,10]"
   ]
  },
  {
   "cell_type": "code",
   "execution_count": 82,
   "id": "cbe6c686-4c62-454f-8835-91059e3f27c5",
   "metadata": {},
   "outputs": [
    {
     "name": "stderr",
     "output_type": "stream",
     "text": [
      "100%|█████████████████████████████████████████████████████████████████████████████████████| 8/8 [00:03<00:00,  2.08it/s]\n"
     ]
    }
   ],
   "source": [
    "result_cliff = {}\n",
    "for size in tqdm(size_list):\n",
    "\n",
    "    count_cliff = 0\n",
    "    \n",
    "    with open(f'./outputs/pkl/gqcoans_s42_t2.0_cl100_s{size}.pkl', 'rb') as f:\n",
    "        dct = pickle.load(f)\n",
    "    \n",
    "    for i, (ans, token) in enumerate(zip(dct['answer'], dct['tokens'])):\n",
    "\n",
    "        while token and token[-1] == 0:\n",
    "            token.pop()\n",
    "        \n",
    "        adj = testdata[size][i]\n",
    "        qc = taskobj.get_circuit(token, size=len(adj))\n",
    "        \n",
    "        if is_clifford_circuit(qc.qc):\n",
    "            count_cliff += 1\n",
    "\n",
    "    result_cliff[int(size)] = count_cliff"
   ]
  },
  {
   "cell_type": "code",
   "execution_count": 83,
   "id": "f5657f3c-ba05-4eee-9c9a-acdca9933031",
   "metadata": {},
   "outputs": [
    {
     "data": {
      "text/plain": [
       "{3: 0, 4: 0, 5: 0, 6: 0, 7: 0, 8: 0, 9: 0, 10: 0}"
      ]
     },
     "execution_count": 83,
     "metadata": {},
     "output_type": "execute_result"
    }
   ],
   "source": [
    "result_cliff"
   ]
  }
 ],
 "metadata": {
  "kernelspec": {
   "display_name": "Python (.env)",
   "language": "python",
   "name": ".env"
  },
  "language_info": {
   "codemirror_mode": {
    "name": "ipython",
    "version": 3
   },
   "file_extension": ".py",
   "mimetype": "text/x-python",
   "name": "python",
   "nbconvert_exporter": "python",
   "pygments_lexer": "ipython3",
   "version": "3.11.7"
  }
 },
 "nbformat": 4,
 "nbformat_minor": 5
}
