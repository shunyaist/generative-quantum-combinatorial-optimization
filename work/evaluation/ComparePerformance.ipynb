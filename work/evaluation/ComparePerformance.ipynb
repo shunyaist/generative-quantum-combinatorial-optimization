{
 "cells": [
  {
   "cell_type": "code",
   "execution_count": 1,
   "id": "48e475a7-43c9-4c76-99e8-02f349c11f8e",
   "metadata": {},
   "outputs": [
    {
     "name": "stdout",
     "output_type": "stream",
     "text": [
      "/home/mshunya/project/100_GQCO/work/2024102201_PerfomanceEval/.env/bin/python\n"
     ]
    }
   ],
   "source": [
    "import sys\n",
    "print(sys.executable)\n",
    "\n",
    "sys.path.append('../')"
   ]
  },
  {
   "cell_type": "code",
   "execution_count": 2,
   "id": "4703af48-e4c7-4786-9144-8160ad87b06c",
   "metadata": {},
   "outputs": [],
   "source": [
    "import pickle\n",
    "import time\n",
    "import tqdm\n",
    "import numpy as np\n",
    "import seaborn as sns\n",
    "import matplotlib.pyplot as plt\n",
    "import torch\n",
    "from torch_geometric.data import Batch\n",
    "from IPython.display import display, Math\n",
    "from gqco.train import MyModel\n",
    "from gqco.utils import fix_seed, arange_token\n",
    "from gqco.data import generate_data, RandomGraphDatasetWithClone\n",
    "from gqco.solve import solve_from_token, plot_from_dict, brute_solver, probs_to_result\n",
    "from gqco.model import TransformerWithMoE\n",
    "from gqco.quantum import coef_to_pauli, pauli_to_matrix, make_cudaq_operator\n",
    "from gqco.task import GQCO\n",
    "\n",
    "import importlib\n",
    "def fun_reload(pkg):\n",
    "    module = importlib.import_module(pkg)\n",
    "    module = importlib.reload(module)\n",
    "    attrs = {attr: getattr(module, attr) for attr in dir(module)}\n",
    "    globals().update(attrs)\n",
    "\n",
    "fun_reload('gqco.quantum')\n",
    "fun_reload('gqco.model')"
   ]
  },
  {
   "cell_type": "code",
   "execution_count": 3,
   "id": "11fc5b88-1ff3-4082-bb3c-597cdcfe61ec",
   "metadata": {},
   "outputs": [],
   "source": [
    "def data_from_adj(adj, args, num_clone, device):\n",
    "    dataset = RandomGraphDatasetWithClone(adj, num_clone=num_clone, max_num_nodes=args.max_size, device=device)\n",
    "    record = Batch.from_data_list(dataset)\n",
    "    record['size'] = record['size'].tolist()[0]\n",
    "    record['len'] = dataset.len()\n",
    "\n",
    "    return adj, size, record\n",
    "\n",
    "\n",
    "def _get_answer(dct, metric='min'):\n",
    "    vals = list(dct.values())\n",
    "    if metric=='min':\n",
    "        target_val = min(vals)\n",
    "    if metric=='max':\n",
    "        target_val = max(vals)\n",
    "    target_keys = [key for key, value in dct.items() if value == target_val]\n",
    "    return target_keys, target_val"
   ]
  },
  {
   "cell_type": "code",
   "execution_count": 4,
   "id": "bb08919d-abe6-4a27-af6c-8c11b47bc75a",
   "metadata": {},
   "outputs": [],
   "source": [
    "task_path = '../model/taskobjects.pkl'\n",
    "checkpoint_path = '../model/latest-current_size=10-epoch=2999.ckpt'\n",
    "testdata_path = '../work/testdata.pkl'\n",
    "seed=0"
   ]
  },
  {
   "cell_type": "code",
   "execution_count": 5,
   "id": "eec76438-9690-4cca-8198-21a1447294db",
   "metadata": {},
   "outputs": [],
   "source": [
    "with open(task_path, 'rb') as f: \n",
    "    obj = pickle.load(f)\n",
    "# task = obj['task']\n",
    "args = obj['args']\n",
    "# args.quantum_tool='cudaq'\n",
    "task = GQCO(args)"
   ]
  },
  {
   "cell_type": "code",
   "execution_count": 6,
   "id": "0905ea8a-709e-44ea-be78-0e18f7b3ca2e",
   "metadata": {},
   "outputs": [],
   "source": [
    "model = TransformerWithMoE(args)\n",
    "model = MyModel.load_from_checkpoint(checkpoint_path, model=model, task=task, args=args)"
   ]
  },
  {
   "cell_type": "code",
   "execution_count": 7,
   "id": "da692fde-17b6-4898-8a99-c328d85fab63",
   "metadata": {},
   "outputs": [],
   "source": [
    "with open(testdata_path, 'rb') as f:\n",
    "    testdata = pickle.load(f)"
   ]
  },
  {
   "cell_type": "code",
   "execution_count": 8,
   "id": "d651ab9d-f8e0-40a7-8e39-93628c1b8299",
   "metadata": {},
   "outputs": [],
   "source": [
    "size_list = [s for s in range(3, 11)]"
   ]
  },
  {
   "cell_type": "markdown",
   "id": "588b4b83-95dd-4985-a486-c360c1b47134",
   "metadata": {},
   "source": [
    "## Setup"
   ]
  },
  {
   "cell_type": "code",
   "execution_count": 9,
   "id": "f4c0ca2e-f2ff-4c83-ada5-1e1c14138f48",
   "metadata": {},
   "outputs": [],
   "source": [
    "SEED = 373\n",
    "num_clone = 100\n",
    "temperature = 2.0\n",
    "device = model.device\n",
    "\n",
    "size_list = [s for s in range(3, 11)]\n",
    "solver_type = ['brute']"
   ]
  },
  {
   "cell_type": "markdown",
   "id": "ae1a8994-c9e0-41de-abee-938a008ef7df",
   "metadata": {},
   "source": [
    "## Brute solver"
   ]
  },
  {
   "cell_type": "code",
   "execution_count": 66,
   "id": "3e01dc21-d29f-49da-94b2-a477b284597c",
   "metadata": {},
   "outputs": [
    {
     "name": "stderr",
     "output_type": "stream",
     "text": [
      "size: 3: 100%|█████████████████████████████████████████████████████████████████████| 1000/1000 [00:05<00:00, 186.40it/s]\n",
      "size: 4: 100%|█████████████████████████████████████████████████████████████████████| 1000/1000 [00:06<00:00, 154.82it/s]\n",
      "size: 5: 100%|█████████████████████████████████████████████████████████████████████| 1000/1000 [00:09<00:00, 105.60it/s]\n",
      "size: 6: 100%|██████████████████████████████████████████████████████████████████████| 1000/1000 [00:14<00:00, 67.28it/s]\n",
      "size: 7: 100%|██████████████████████████████████████████████████████████████████████| 1000/1000 [00:26<00:00, 37.40it/s]\n",
      "size: 8: 100%|██████████████████████████████████████████████████████████████████████| 1000/1000 [00:58<00:00, 17.15it/s]\n",
      "size: 9: 100%|██████████████████████████████████████████████████████████████████████| 1000/1000 [02:14<00:00,  7.43it/s]\n",
      "size: 10: 100%|█████████████████████████████████████████████████████████████████████| 1000/1000 [05:14<00:00,  3.18it/s]\n"
     ]
    }
   ],
   "source": [
    "ans = {}\n",
    "tms = {}\n",
    "\n",
    "for size in size_list:\n",
    "    _ans = []\n",
    "    _tms = []\n",
    "    \n",
    "    for adj in tqdm.tqdm(testdata[size], desc=f'size: {size}'):\n",
    "        adj, size, record = data_from_adj(adj, args, num_clone, device)\n",
    "\n",
    "        _s = time.time()\n",
    "        dict_true = brute_solver(adj)\n",
    "        _e = time.time()\n",
    "\n",
    "        min_keys_true, min_val_true = _get_answer(dict_true, metric='min')\n",
    "\n",
    "        _ans.append(min_keys_true)\n",
    "        _tms.append(_e - _s)\n",
    "\n",
    "    ans[size] = _ans\n",
    "    tms[size] = _tms\n",
    "\n",
    "with open('./trueans.pkl', 'wb') as f:\n",
    "    pickle.dump({'answer': ans, 'time': tms}, f)"
   ]
  },
  {
   "cell_type": "markdown",
   "id": "e6582ced-f7fd-446a-a321-10a124ec6448",
   "metadata": {},
   "source": [
    "## GQCO solver"
   ]
  },
  {
   "cell_type": "code",
   "execution_count": 24,
   "id": "37bcbbd5-2bb5-4529-952f-7f70b1723380",
   "metadata": {},
   "outputs": [],
   "source": [
    "task.tool = 'cudaq'\n",
    "# task.tool = 'qiskit'"
   ]
  },
  {
   "cell_type": "code",
   "execution_count": 57,
   "id": "d903a70f-4b30-44b9-b28d-a3205a898a68",
   "metadata": {},
   "outputs": [],
   "source": [
    "# t_list = [1.0, 2.0]\n",
    "# cl_list = [1, 5, 10, 20, 100]\n",
    "t_list = [1.0, 2.0]\n",
    "cl_list = [20]"
   ]
  },
  {
   "cell_type": "code",
   "execution_count": null,
   "id": "2b526662-3e1d-4d02-9299-5cb4bc7635b8",
   "metadata": {
    "scrolled": true
   },
   "outputs": [
    {
     "name": "stderr",
     "output_type": "stream",
     "text": [
      "temperature: 1.0, clone: 20, size: 3:  10%|████▎                                      | 99/1000 [00:22<03:28,  4.32it/s]\n",
      "temperature: 1.0, clone: 20, size: 4:  10%|████▎                                      | 99/1000 [00:23<03:32,  4.24it/s]\n",
      "temperature: 1.0, clone: 20, size: 5:  10%|████▎                                      | 99/1000 [00:27<04:06,  3.66it/s]\n",
      "temperature: 1.0, clone: 20, size: 6:  10%|████▎                                      | 99/1000 [00:34<05:15,  2.85it/s]\n",
      "temperature: 1.0, clone: 20, size: 7:  10%|████▎                                      | 99/1000 [00:44<06:41,  2.24it/s]\n",
      "temperature: 1.0, clone: 20, size: 8:  10%|████▎                                      | 99/1000 [00:48<07:19,  2.05it/s]\n",
      "temperature: 1.0, clone: 20, size: 9:  10%|████▎                                      | 99/1000 [01:00<09:11,  1.63it/s]\n",
      "temperature: 1.0, clone: 20, size: 10:  10%|████▏                                     | 99/1000 [01:13<11:07,  1.35it/s]\n",
      "temperature: 2.0, clone: 20, size: 3:  10%|████▎                                      | 99/1000 [00:44<06:48,  2.21it/s]\n",
      "temperature: 2.0, clone: 20, size: 4:  10%|████▎                                      | 99/1000 [00:45<06:56,  2.16it/s]\n",
      "temperature: 2.0, clone: 20, size: 5:  10%|████▎                                      | 99/1000 [00:52<07:57,  1.89it/s]\n",
      "temperature: 2.0, clone: 20, size: 6:  10%|████▎                                      | 99/1000 [01:12<10:58,  1.37it/s]\n",
      "temperature: 2.0, clone: 20, size: 7:  10%|████▎                                      | 99/1000 [01:28<13:26,  1.12it/s]\n",
      "temperature: 2.0, clone: 20, size: 8:   0%|▏                                           | 5/1000 [00:04<15:39,  1.06it/s]"
     ]
    }
   ],
   "source": [
    "model.eval()\n",
    "\n",
    "result = []\n",
    "\n",
    "for temperature in t_list:\n",
    "    for num_clone in cl_list:\n",
    "        ans = {}\n",
    "        tms = {}\n",
    "        for size in size_list:\n",
    "            _ans = []\n",
    "            _tms = []\n",
    "        \n",
    "            count = 0\n",
    "            for adj in tqdm.tqdm(testdata[size], desc=f'temperature: {temperature}, clone: {num_clone}, size: {size}'):\n",
    "                count += 1\n",
    "                adj, size, record = data_from_adj(adj.to(device), args, num_clone, device)\n",
    "                fix_seed(SEED)\n",
    "        \n",
    "                _s = time.time()\n",
    "                with torch.no_grad():\n",
    "                    out_tokens, probs_all, _, logits_all = model.model.forward(record, temperature=temperature, same_token_penalty=0.0, masked_tokens=task.bad_tokens[size], deterministic=False) \n",
    "                tokens_list = [arange_token(t, args) for t in out_tokens.detach().cpu().tolist()]\n",
    "                _t1 = time.time()\n",
    "        \n",
    "                energies = []\n",
    "                vectors = []\n",
    "                energy_cache = {}\n",
    "                vector_cache = {}\n",
    "                for t in tokens_list:\n",
    "                    t_tuple = tuple(t)\n",
    "                    if t_tuple not in energy_cache:\n",
    "                        energy = task.compute_energy(t, adj, args.num_shot)\n",
    "                        energy_cache[t_tuple] = energy\n",
    "                    else:\n",
    "                        energy = energy_cache[t_tuple]\n",
    "                    energies.append(energy)\n",
    "        \n",
    "                ## Get the best\n",
    "                idx_min = energies.index(min(energies))\n",
    "                token_min = tokens_list[idx_min]\n",
    "                energy_min = energies[idx_min]\n",
    "            \n",
    "                while token_min and token_min[-1] == 0:\n",
    "                    token_min.pop()\n",
    "                _t2 = time.time()\n",
    "        \n",
    "                qc = task.get_circuit(token_min, size=len(adj))\n",
    "                vector = qc.get_state()\n",
    "                probs = np.abs(vector)**2\n",
    "                _t3 = time.time()\n",
    "        \n",
    "                dict_pred = probs_to_result(probs)\n",
    "                min_keys, min_val = _get_answer(dict_pred, metric='max')\n",
    "        \n",
    "                _ans.append(min_keys)\n",
    "                _tms.append([_s, _t1, _t2, _t3])\n",
    "        \n",
    "                if count == 100:\n",
    "                    break\n",
    "                \n",
    "            ans[size] = _ans\n",
    "            tms[size] = _tms\n",
    "        result.append({\n",
    "            'temperature': temperature,\n",
    "            'num_clone': num_clone,\n",
    "            'answers': ans,\n",
    "            'times': tms\n",
    "        })\n",
    "\n",
    "\n",
    "    with open('./gqcoans.pkl', 'wb') as f:\n",
    "        pickle.dump(result, f)"
   ]
  },
  {
   "cell_type": "code",
   "execution_count": 103,
   "id": "8a710744-553b-4a0d-ba9d-54805270e418",
   "metadata": {},
   "outputs": [],
   "source": [
    "with open('../work/outputs/trueans.pkl', 'rb') as f:\n",
    "    dict_true = pickle.load(f)\n",
    "# with open('./gqcoans.pkl', 'rb') as f:\n",
    "#     dict_gqco = pickle.load(f)"
   ]
  },
  {
   "cell_type": "code",
   "execution_count": 6,
   "id": "a5b7d88b-ed2d-44f4-994e-9e43cf556eaf",
   "metadata": {
    "scrolled": true
   },
   "outputs": [
    {
     "data": {
      "text/plain": [
       "1.0"
      ]
     },
     "execution_count": 6,
     "metadata": {},
     "output_type": "execute_result"
    }
   ],
   "source": [
    "dict_gqco[0]['temperature']"
   ]
  },
  {
   "cell_type": "code",
   "execution_count": 54,
   "id": "bf12591f-9dc6-4319-a9a8-a50277f732a6",
   "metadata": {},
   "outputs": [],
   "source": [
    "_tmp = []\n",
    "_clo = []\n",
    "_siz = []\n",
    "_acc = []\n",
    "_tim = []\n",
    "_tim1 = []\n",
    "_tim2 = []\n",
    "for size in size_list:\n",
    "\n",
    "    _tmp.append(None)\n",
    "    _clo.append(None)\n",
    "    _siz.append(size)\n",
    "    _acc.append(None\n",
    "    _tim.append(sum(dict_true['time'][size])/len(dict_true['time'][size]))\n",
    "\n",
    "    ## GQ\n",
    "    for temperature in t_list:\n",
    "        for num_clone in cl_list:\n",
    "            is_correct = 0\n",
    "            sum_truetime = 0\n",
    "            sum_gqcotime1 = 0\n",
    "            sum_gqcotime2 = 0\n",
    "            sum_gqcotime_all = 0\n",
    "            # for trueans, gqcoans in zip(dict_true['answer'][size], dict_gqco['answer'][size]):\n",
    "            for i in range(min(len(dict_true['answer'][size]), len(dict_gqco['answer'][size]))):\n",
    "                trueans = dict_true['answer'][size][i]\n",
    "                gqcoans = dict_gqco['answer'][size][i]\n",
    "\n",
    "                truetime = dict_true['time'][size][i]\n",
    "                gqcotime = dict_gqco['time'][size][i]\n",
    "                \n",
    "                if len(set(gqcoans) & set(trueans)):\n",
    "                    is_correct += 1\n",
    "\n",
    "            _tmp.append(temperature)\n",
    "            _clo.append(num_clone)\n",
    "            _siz.append(size)\n",
    "            _acc.append(is_correct / (i+1))\n",
    "            _tim.append()"
   ]
  },
  {
   "cell_type": "markdown",
   "id": "c87d64f8-2d84-45f6-bce0-dbf8dcc19c87",
   "metadata": {},
   "source": [
    "## QAOA solver"
   ]
  },
  {
   "cell_type": "code",
   "execution_count": 9,
   "id": "e9abf183-b046-48a7-bea0-1e41aae528b1",
   "metadata": {},
   "outputs": [],
   "source": [
    "import numpy as np\n",
    "import cudaq\n",
    "from cudaq import spin\n",
    "from typing import List\n"
   ]
  },
  {
   "cell_type": "code",
   "execution_count": 78,
   "id": "c12b424b-e517-433b-92ae-186157368606",
   "metadata": {},
   "outputs": [],
   "source": [
    "def adj_to_cudaqlist(adj):\n",
    "    lst1 = []\n",
    "    lst2 = []\n",
    "    \n",
    "    for i in range(len(adj)):\n",
    "        lst1.append(adj[i, i].cpu().tolist())\n",
    "    for i in range(len(adj)-1):\n",
    "        for j in range(i+1, len(adj)):\n",
    "            lst2.append(adj[i, j].cpu().tolist())\n",
    "\n",
    "    return lst1, lst2\n",
    "\n",
    "\n",
    "@cudaq.kernel\n",
    "def kernel_qaoa(qubit_count: int, layer_count: int, lst1: List[float],\n",
    "                lst2: List[float], thetas: List[float]):\n",
    "\n",
    "    qreg = cudaq.qvector(qubit_count)\n",
    "\n",
    "    h(qreg)\n",
    "\n",
    "    for ell in range(layer_count):\n",
    "\n",
    "        for i in range(qubit_count):\n",
    "            w = lst1[i]\n",
    "            rz(2.0 * thetas[ell] * w, qreg[i])\n",
    "\n",
    "        count = 0\n",
    "        for i in range(qubit_count-1):\n",
    "            for j in range(i+1, qubit_count):\n",
    "                w = lst2[count]\n",
    "                x.ctrl(qreg[i], qreg[j])\n",
    "                rz(2.0 * thetas[ell] * w, qreg[j])\n",
    "                x.ctrl(qreg[i], qreg[j])\n",
    "                count += 1\n",
    "            \n",
    "        # Add the mixer kernel to each layer\n",
    "        for k in range(qubit_count):\n",
    "            rx(2.0 * thetas[ell + layer_count], qreg[k])\n"
   ]
  },
  {
   "cell_type": "code",
   "execution_count": null,
   "id": "ac7dcfc5-287a-45d7-a34a-34266566a370",
   "metadata": {},
   "outputs": [],
   "source": [
    "cudaq.set_target('nvidia')"
   ]
  },
  {
   "cell_type": "code",
   "execution_count": 136,
   "id": "438b82ef-8067-485e-8a28-1f17fd9b623c",
   "metadata": {},
   "outputs": [
    {
     "name": "stdout",
     "output_type": "stream",
     "text": [
      "Initial parameters =  [0.15262786126672012, 0.06538864442917519, 0.2021024886981121, -0.27998268286945754]\n",
      "optimal_expectation = -1.9098221518466407\n",
      "Therefore, the max cut value is at least  1.9098221518466407\n",
      "optimal_parameters = [0.8973663688221337, 1.3963265287738276, 0.8053198105776708, -0.8004052749686027]\n"
     ]
    },
    {
     "data": {
      "text/plain": [
       "{'000': 0.005370893,\n",
       " '100': 0.6261513,\n",
       " '010': 0.06928239,\n",
       " '110': 0.15378143,\n",
       " '001': 0.00836413,\n",
       " '101': 0.09574778,\n",
       " '011': 0.022322103,\n",
       " '111': 0.01897973}"
      ]
     },
     "execution_count": 136,
     "metadata": {},
     "output_type": "execute_result"
    }
   ],
   "source": [
    "size = 3\n",
    "smpl += 1\n",
    "adj = testdata[size][smpl]\n",
    "\n",
    "\n",
    "lst1, lst2 = adj_to_cudaqlist(adj)\n",
    "\n",
    "spin_operator = make_cudaq_operator(adj)\n",
    "\n",
    "qubit_count = len(adj)\n",
    "layer_count = 2\n",
    "parameter_count = 2 * layer_count\n",
    "SEED = 373\n",
    "\n",
    "# Specify the optimizer and its initial parameters.\n",
    "cudaq.set_random_seed(SEED)\n",
    "optimizer = cudaq.optimizers.NelderMead()\n",
    "np.random.seed(SEED)\n",
    "optimizer.initial_parameters = np.random.uniform(-np.pi / 8, np.pi / 8, parameter_count)\n",
    "print(\"Initial parameters = \", optimizer.initial_parameters)\n",
    "\n",
    "def objective(parameters):\n",
    "    return cudaq.observe(kernel_qaoa, spin_operator, qubit_count, layer_count,\n",
    "                         lst1, lst2, parameters).expectation()\n",
    "\n",
    "optimal_expectation, optimal_parameters = optimizer.optimize(dimensions=parameter_count, function=objective)\n",
    "\n",
    "np.array(cudaq.get_state(kernel_qaoa, qubit_count, layer_count, lst1, lst2, optimal_parameters))  ## the output is wrong without this line (why?).\n",
    "vector = np.array(cudaq.get_state(kernel_qaoa, qubit_count, layer_count, lst1, lst2, optimal_parameters))  ## the output is wrong without this line (why?).\n",
    "probs = np.abs(vector)**2\n",
    "\n",
    "result = {}\n",
    "nqubit = int(np.log2(len(probs)))\n",
    "    \n",
    "for i, b in enumerate(range(2**nqubit)):\n",
    "    # bit = f'{b:0>{nqubit}b}'\n",
    "    bit = f'{b:0>{nqubit}b}'[::-1]\n",
    "    result[bit] = probs[i]\n",
    "\n",
    "result"
   ]
  },
  {
   "cell_type": "code",
   "execution_count": 139,
   "id": "a68bd844-6371-4859-aab4-0b911794a1b6",
   "metadata": {},
   "outputs": [],
   "source": [
    "min_keys, min_val = _get_answer(result, metric='max')"
   ]
  },
  {
   "cell_type": "code",
   "execution_count": 140,
   "id": "a29bbaf2-3c71-4e88-8dda-20679b836afd",
   "metadata": {},
   "outputs": [
    {
     "data": {
      "text/plain": [
       "['100']"
      ]
     },
     "execution_count": 140,
     "metadata": {},
     "output_type": "execute_result"
    }
   ],
   "source": [
    "min_keys"
   ]
  },
  {
   "cell_type": "code",
   "execution_count": 137,
   "id": "2b9d3386-63f6-4804-8cf5-68da1cf6bfd4",
   "metadata": {},
   "outputs": [
    {
     "data": {
      "text/plain": [
       "['100']"
      ]
     },
     "execution_count": 137,
     "metadata": {},
     "output_type": "execute_result"
    }
   ],
   "source": [
    "dict_true['answer'][3][smpl]"
   ]
  },
  {
   "cell_type": "code",
   "execution_count": null,
   "id": "ca4c4201-974d-45a6-add2-448645016bf4",
   "metadata": {},
   "outputs": [],
   "source": []
  },
  {
   "cell_type": "code",
   "execution_count": null,
   "id": "6b59ff3a-2f18-455d-af5f-48f677e7c937",
   "metadata": {},
   "outputs": [],
   "source": []
  },
  {
   "cell_type": "markdown",
   "id": "14421757-e870-49a8-8c15-d016811121c9",
   "metadata": {},
   "source": [
    "## Make result csv"
   ]
  },
  {
   "cell_type": "code",
   "execution_count": 4,
   "id": "11b1cc21-4ae9-44ba-99c1-0516f6c56d55",
   "metadata": {},
   "outputs": [],
   "source": [
    "import pandas as pd"
   ]
  },
  {
   "cell_type": "code",
   "execution_count": 9,
   "id": "547123f2-8789-4156-8c31-512eeef857ec",
   "metadata": {},
   "outputs": [],
   "source": [
    "with open('../work/outputs/trueans.pkl', 'rb') as f:\n",
    "    dict_true = pickle.load(f)\n",
    "\n",
    "_s = []\n",
    "_t = []\n",
    "for size in size_list:\n",
    "    _s += [size]\n",
    "    _t += [sum(dict_true['time'][size])/len(dict_true['time'][size])]\n",
    "\n",
    "pd.DataFrame({'size': _s, 'time': _t}).to_csv('../work/Brute.csv', index=False)"
   ]
  },
  {
   "cell_type": "code",
   "execution_count": 10,
   "id": "f3d8a8aa-55d0-4279-857d-e65647b9f9e9",
   "metadata": {},
   "outputs": [
    {
     "ename": "NameError",
     "evalue": "name 'dict_true' is not defined",
     "output_type": "error",
     "traceback": [
      "\u001b[0;31m---------------------------------------------------------------------------\u001b[0m",
      "\u001b[0;31mNameError\u001b[0m                                 Traceback (most recent call last)",
      "Cell \u001b[0;32mIn[10], line 28\u001b[0m\n\u001b[1;32m     26\u001b[0m \u001b[38;5;28;01mfor\u001b[39;00m i \u001b[38;5;129;01min\u001b[39;00m \u001b[38;5;28mrange\u001b[39m(\u001b[38;5;28mlen\u001b[39m(dct[\u001b[38;5;124m'\u001b[39m\u001b[38;5;124manswer\u001b[39m\u001b[38;5;124m'\u001b[39m])):\n\u001b[1;32m     27\u001b[0m     gqcoans \u001b[38;5;241m=\u001b[39m dct[\u001b[38;5;124m'\u001b[39m\u001b[38;5;124manswer\u001b[39m\u001b[38;5;124m'\u001b[39m][i]\n\u001b[0;32m---> 28\u001b[0m     trueans \u001b[38;5;241m=\u001b[39m \u001b[43mdict_true\u001b[49m[\u001b[38;5;124m'\u001b[39m\u001b[38;5;124manswer\u001b[39m\u001b[38;5;124m'\u001b[39m][size][i]\n\u001b[1;32m     30\u001b[0m \u001b[38;5;66;03m#     if len(set(gqcoans) & set(trueans)):\u001b[39;00m\n\u001b[1;32m     31\u001b[0m \u001b[38;5;66;03m#         is_correct += 1\u001b[39;00m\n\u001b[1;32m     33\u001b[0m     sum_t \u001b[38;5;241m+\u001b[39m\u001b[38;5;241m=\u001b[39m dct[\u001b[38;5;124m'\u001b[39m\u001b[38;5;124mtime\u001b[39m\u001b[38;5;124m'\u001b[39m][i][\u001b[38;5;241m2\u001b[39m] \u001b[38;5;241m-\u001b[39m dct[\u001b[38;5;124m'\u001b[39m\u001b[38;5;124mtime\u001b[39m\u001b[38;5;124m'\u001b[39m][i][\u001b[38;5;241m0\u001b[39m]\n",
      "\u001b[0;31mNameError\u001b[0m: name 'dict_true' is not defined"
     ]
    }
   ],
   "source": [
    "# t_list = [1.0, 2.0]\n",
    "# cl_list = [1, 5, 10, 20, 100]\n",
    "sd_list = [0, 373, 42]\n",
    "t_list = [1.0, 2.0]\n",
    "cl_list = [1, 5, 10, 20, 100]\n",
    "\n",
    "_s = []\n",
    "_temp = []\n",
    "_cl = []\n",
    "_t = []\n",
    "_t1 = []\n",
    "_t2 = []\n",
    "_t3 = []\n",
    "_acc = []\n",
    "for temp in t_list:\n",
    "    for cl in cl_list:\n",
    "        for size in size_list:\n",
    "            with open(f'../work/outputs/gqcoans_t{temp}_cl{int(cl)}_s{size}.pkl', 'rb') as f:\n",
    "                dct = pickle.load(f)\n",
    "\n",
    "            # is_correct = 0\n",
    "            sum_t = 0\n",
    "            sum_t1 = 0\n",
    "            sum_t2 = 0\n",
    "            # sum_t3 = 0\n",
    "            for i in range(len(dct['answer'])):\n",
    "                gqcoans = dct['answer'][i]\n",
    "                trueans = dict_true['answer'][size][i]\n",
    "\n",
    "            #     if len(set(gqcoans) & set(trueans)):\n",
    "            #         is_correct += 1\n",
    "\n",
    "                sum_t += dct['time'][i][2] - dct['time'][i][0]\n",
    "                sum_t1 += dct['time'][i][1] - dct['time'][i][0]\n",
    "                sum_t2 += dct['time'][i][2] - dct['time'][i][1]\n",
    "            #     sum_t3 += dct['time'][i][3] - dct['time'][i][2]\n",
    "\n",
    "            _s += [size]\n",
    "            _temp += [temp]\n",
    "            _cl += [cl]\n",
    "            _t += [sum_t / len(dct['answer'])]\n",
    "            _t1 += [sum_t1 / len(dct['answer'])]\n",
    "            _t2 += [sum_t2 / len(dct['answer'])]\n",
    "            # _t3 += [sum_t3 / len(dct['answer'])]\n",
    "            _acc += [sum(dct['answer']) / len(dct['answer'])]\n",
    "\n",
    "pd.DataFrame({\n",
    "    'size': _s, \n",
    "    'temperature': _temp,\n",
    "    'num_clone': _cl,\n",
    "    'time': _t,\n",
    "    'time1': _t1,\n",
    "    'time2': _t2,\n",
    "    # 'time3': _t3,\n",
    "    'accuracy': _acc\n",
    "}).to_csv('../work/GQCO.csv', index=False)"
   ]
  },
  {
   "cell_type": "code",
   "execution_count": 47,
   "id": "44a8d300-5ee1-4d26-9896-3572706cf647",
   "metadata": {
    "scrolled": true
   },
   "outputs": [],
   "source": [
    "r_list = [10]\n",
    "sw_list = [100, 1000, 10000, 100000, 1000000]\n",
    "\n",
    "_s = []\n",
    "_r = []\n",
    "_sw = []\n",
    "_t = []\n",
    "_acc = []\n",
    "for r in r_list:\n",
    "    for sw in sw_list:\n",
    "        for size in size_list:\n",
    "            with open(f'../work/outputs/saans_r{int(r)}_sw{int(sw)}_s{size}.pkl', 'rb') as f:\n",
    "                dct = pickle.load(f)\n",
    "\n",
    "            is_correct = 0\n",
    "            sum_t = 0\n",
    "            for i in range(len(dct['answer'])):\n",
    "                saans = dct['answer'][i]\n",
    "                trueans = dict_true['answer'][size][i]\n",
    "\n",
    "                if len(set(saans) & set(trueans)):\n",
    "                    is_correct += 1\n",
    "\n",
    "                sum_t += dct['time'][i]\n",
    "\n",
    "            _s += [size]\n",
    "            _r += [r]\n",
    "            _sw += [sw]\n",
    "            _t += [sum_t / len(dct['answer'])]\n",
    "            _acc += [is_correct / len(dct['answer'])]\n",
    "\n",
    "pd.DataFrame({\n",
    "    'size': _s, \n",
    "    'num_reads': _r,\n",
    "    'num_sweeps': _sw,\n",
    "    'time': _t,\n",
    "    'accuracy': _acc\n",
    "}).to_csv('../work/SA.csv', index=False)"
   ]
  },
  {
   "cell_type": "code",
   "execution_count": 21,
   "id": "efc0d224-9775-4297-b0c4-9f7e50b4c23c",
   "metadata": {},
   "outputs": [],
   "source": [
    "# l_list = [2, 5, 10, 20]\n",
    "l_list = [1, 2, 3, 5]\n",
    "\n",
    "_s = []\n",
    "_l = []\n",
    "_t = []\n",
    "_acc = []\n",
    "for l in l_list:\n",
    "    for size in size_list:\n",
    "        with open(f'../work/outputs/qaoaans_l{int(l)}_s{size}.pkl', 'rb') as f:\n",
    "            dct = pickle.load(f)\n",
    "\n",
    "        is_correct = 0\n",
    "        sum_t = 0\n",
    "        for i in range(len(dct['answer'])):\n",
    "            qaoaans = dct['answer'][i]\n",
    "            trueans = dict_true['answer'][size][i]\n",
    "\n",
    "            if len(set(qaoaans) & set(trueans)):\n",
    "                is_correct += 1\n",
    "\n",
    "            sum_t += dct['time'][i]\n",
    "\n",
    "        _s += [size]\n",
    "        _l += [l]\n",
    "        _t += [sum_t / len(dct['answer'])]\n",
    "        _acc += [is_correct / len(dct['answer'])]\n",
    "\n",
    "pd.DataFrame({\n",
    "    'size': _s, \n",
    "    'num_repeats': _l,\n",
    "    'time': _t,\n",
    "    'accuracy': _acc\n",
    "}).to_csv('../work/QAOA.csv', index=False)"
   ]
  },
  {
   "cell_type": "code",
   "execution_count": null,
   "id": "441c0d52-6ee2-490b-bc2b-4dcc97eca95b",
   "metadata": {},
   "outputs": [],
   "source": []
  },
  {
   "cell_type": "code",
   "execution_count": null,
   "id": "fe4e4be8-04be-4554-9aef-cfdc70fef9f1",
   "metadata": {},
   "outputs": [],
   "source": []
  },
  {
   "cell_type": "code",
   "execution_count": null,
   "id": "421c63b4-e1d7-4d74-bed3-ea440f56e8d3",
   "metadata": {},
   "outputs": [],
   "source": []
  },
  {
   "cell_type": "code",
   "execution_count": null,
   "id": "c1acf6b9-411b-4938-b520-2b528a0e35d7",
   "metadata": {},
   "outputs": [],
   "source": []
  },
  {
   "cell_type": "code",
   "execution_count": null,
   "id": "596d769c-7cde-4d00-8477-f082fc68dc0a",
   "metadata": {},
   "outputs": [],
   "source": [
    "with open(f'./outputs/gqcoans_t{temperature}_cl{num_clone}_s{size}.pkl', 'wb') as f:\n",
    "    pickle.dump({\n",
    "        'answer': _ans,\n",
    "        'time': _tms\n",
    "    }, f)"
   ]
  },
  {
   "cell_type": "code",
   "execution_count": null,
   "id": "941561b4-ae16-466f-ae11-bbc3ce08488b",
   "metadata": {},
   "outputs": [],
   "source": [
    "                if len(set(gqcoans) & set(trueans)):\n",
    "                    is_correct += 1"
   ]
  },
  {
   "cell_type": "code",
   "execution_count": null,
   "id": "cefecb18-a0c1-411b-89fb-11f140d8c5a3",
   "metadata": {},
   "outputs": [],
   "source": []
  },
  {
   "cell_type": "code",
   "execution_count": null,
   "id": "9b4b933e-9600-4bbf-b115-cdd4b5f826c3",
   "metadata": {},
   "outputs": [],
   "source": []
  },
  {
   "cell_type": "code",
   "execution_count": 147,
   "id": "46b4b458-64e0-457d-977a-8b56bd7d2e8e",
   "metadata": {},
   "outputs": [
    {
     "data": {
      "text/plain": [
       "[3, 4, 5, 6, 7, 8, 9, 10]"
      ]
     },
     "execution_count": 147,
     "metadata": {},
     "output_type": "execute_result"
    }
   ],
   "source": [
    "_s"
   ]
  },
  {
   "cell_type": "code",
   "execution_count": 148,
   "id": "d741c779-5034-4199-bbf8-63585a3a011d",
   "metadata": {},
   "outputs": [
    {
     "data": {
      "text/plain": [
       "[0.00027885723114013674,\n",
       " 0.000881983757019043,\n",
       " 0.002546091318130493,\n",
       " 0.00713453459739685,\n",
       " 0.018621047496795655,\n",
       " 0.048564555644989016,\n",
       " 0.12227458953857422,\n",
       " 0.29894775700569154]"
      ]
     },
     "execution_count": 148,
     "metadata": {},
     "output_type": "execute_result"
    }
   ],
   "source": [
    "_t"
   ]
  },
  {
   "cell_type": "code",
   "execution_count": null,
   "id": "06081684-ad9f-4a81-9b59-929b351bf02e",
   "metadata": {},
   "outputs": [],
   "source": []
  },
  {
   "cell_type": "code",
   "execution_count": 145,
   "id": "e64afb66-2d75-4d42-8a3b-8b8814290628",
   "metadata": {
    "scrolled": true
   },
   "outputs": [
    {
     "data": {
      "text/plain": [
       "1000"
      ]
     },
     "execution_count": 145,
     "metadata": {},
     "output_type": "execute_result"
    }
   ],
   "source": [
    "len(dict_true['time'][size])"
   ]
  },
  {
   "cell_type": "code",
   "execution_count": null,
   "id": "3361529f-0b4b-475f-8f14-8a71982998a7",
   "metadata": {},
   "outputs": [],
   "source": []
  },
  {
   "cell_type": "code",
   "execution_count": null,
   "id": "3b837e9e-2529-43cf-ae9f-70bb8dd26e4c",
   "metadata": {},
   "outputs": [],
   "source": []
  },
  {
   "cell_type": "code",
   "execution_count": null,
   "id": "d87fb2d0-6871-4fe0-94c6-55ce1e8cad9c",
   "metadata": {},
   "outputs": [],
   "source": []
  },
  {
   "cell_type": "code",
   "execution_count": null,
   "id": "ee9a80db-2e1c-4278-9402-4b8f38de7a87",
   "metadata": {},
   "outputs": [],
   "source": []
  },
  {
   "cell_type": "code",
   "execution_count": null,
   "id": "68a9675e-ba03-46c7-a6a5-7d65731d0237",
   "metadata": {},
   "outputs": [],
   "source": []
  },
  {
   "cell_type": "code",
   "execution_count": null,
   "id": "072c1509-0c44-47ad-824c-be60880b3774",
   "metadata": {},
   "outputs": [],
   "source": []
  },
  {
   "cell_type": "code",
   "execution_count": null,
   "id": "465581bc-b32b-4c3d-b48d-1990c4c939fa",
   "metadata": {},
   "outputs": [],
   "source": []
  },
  {
   "cell_type": "code",
   "execution_count": null,
   "id": "3ddb53e5-a34d-4703-b9a6-e1a8e97df86c",
   "metadata": {},
   "outputs": [],
   "source": []
  },
  {
   "cell_type": "code",
   "execution_count": null,
   "id": "6ad5822d-0378-43c7-b570-786b3480007e",
   "metadata": {},
   "outputs": [],
   "source": []
  },
  {
   "cell_type": "code",
   "execution_count": null,
   "id": "907a38c0-9c7b-4bd1-a33c-35afc25d5e0c",
   "metadata": {},
   "outputs": [],
   "source": []
  },
  {
   "cell_type": "code",
   "execution_count": 96,
   "id": "2ee7a848-1570-435d-beae-92b8fc13a28a",
   "metadata": {},
   "outputs": [
    {
     "data": {
      "text/plain": [
       "array([7.2367787e-01, 1.5339936e-01, 5.8508940e-02, 1.4820998e-02,\n",
       "       6.5545803e-03, 1.1745478e-02, 1.4748685e-04, 3.1145241e-02],\n",
       "      dtype=float32)"
      ]
     },
     "execution_count": 96,
     "metadata": {},
     "output_type": "execute_result"
    }
   ],
   "source": [
    "probs"
   ]
  },
  {
   "cell_type": "code",
   "execution_count": null,
   "id": "dbde1779-bb76-4e7c-a927-6c126fae0b6e",
   "metadata": {},
   "outputs": [],
   "source": []
  },
  {
   "cell_type": "code",
   "execution_count": null,
   "id": "bad1bba2-15f9-40ea-b33f-a0f28756932f",
   "metadata": {},
   "outputs": [],
   "source": [
    "job = execute(qc, backend=Aer.get_backend('statevector_simulator'))\n",
    "vector = job.result().get_statevector()\n",
    "array = []\n",
    "for v in vector:\n",
    "    array.append(v)\n",
    "probs = np.abs(np.array(array))**2\n",
    "\n",
    "result = {}\n",
    "nqubit = int(np.log2(len(probs)))\n",
    "    \n",
    "for i, b in enumerate(range(2**nqubit)):\n",
    "    bit = f'{b:0>{nqubit}b}'\n",
    "    # bit = f'{b:0>{nqubit}b}'[::-1]\n",
    "    result[bit] = probs[i]"
   ]
  },
  {
   "cell_type": "code",
   "execution_count": null,
   "id": "015eebf3-98fa-4468-9616-795eb3ab5fab",
   "metadata": {},
   "outputs": [],
   "source": []
  },
  {
   "cell_type": "code",
   "execution_count": null,
   "id": "6f84bf2b-daab-4315-b023-725de9c5ec4f",
   "metadata": {},
   "outputs": [],
   "source": []
  },
  {
   "cell_type": "code",
   "execution_count": null,
   "id": "58f5df54-04e6-4d8d-b876-326607b6935a",
   "metadata": {},
   "outputs": [],
   "source": []
  },
  {
   "cell_type": "code",
   "execution_count": null,
   "id": "f717cab6-9940-4ad9-bbb4-7e2878cc1086",
   "metadata": {},
   "outputs": [],
   "source": []
  },
  {
   "cell_type": "code",
   "execution_count": null,
   "id": "de29873b-e4c8-440e-9925-d4d65226507d",
   "metadata": {},
   "outputs": [],
   "source": []
  },
  {
   "cell_type": "code",
   "execution_count": 85,
   "id": "84c68130-d823-4855-b8b2-20f91e28fad9",
   "metadata": {},
   "outputs": [
    {
     "data": {
      "text/plain": [
       "0.0"
      ]
     },
     "execution_count": 85,
     "metadata": {},
     "output_type": "execute_result"
    }
   ],
   "source": [
    "cudaq.observe(kernel_qaoa2, spin_operator, qubit_count, layer_count,\n",
    "                         lst1, lst2, optimizer.initial_parameters).expectation()"
   ]
  },
  {
   "cell_type": "code",
   "execution_count": 86,
   "id": "f0bf8358-0fe3-45b4-899f-68611f865eaf",
   "metadata": {},
   "outputs": [
    {
     "data": {
      "text/plain": [
       "[-1.0, -0.954227089881897, -0.8873337507247925]"
      ]
     },
     "execution_count": 86,
     "metadata": {},
     "output_type": "execute_result"
    }
   ],
   "source": [
    "lst1"
   ]
  },
  {
   "cell_type": "code",
   "execution_count": 87,
   "id": "24dcd867-498f-459a-8e99-afd2884c687e",
   "metadata": {},
   "outputs": [
    {
     "data": {
      "text/plain": [
       "[-0.7956457734107971, -0.43199869990348816, -0.05725953355431557]"
      ]
     },
     "execution_count": 87,
     "metadata": {},
     "output_type": "execute_result"
    }
   ],
   "source": [
    "lst2"
   ]
  },
  {
   "cell_type": "code",
   "execution_count": null,
   "id": "ace369c8-67b4-4bd7-a342-a98b6c5bbb85",
   "metadata": {},
   "outputs": [],
   "source": []
  },
  {
   "cell_type": "code",
   "execution_count": 20,
   "id": "e883c433-8ec9-4b9d-8016-9a4a1358df96",
   "metadata": {},
   "outputs": [
    {
     "data": {
      "text/plain": [
       "<cudaq.mlir._mlir_libs._quakeDialects.cudaq_runtime.SpinOperator at 0x7f29071702f0>"
      ]
     },
     "execution_count": 20,
     "metadata": {},
     "output_type": "execute_result"
    }
   ],
   "source": [
    "energy = cudaq.observe(self.kernel, spin_operator, shots_count=num_shot).expectation()"
   ]
  },
  {
   "cell_type": "code",
   "execution_count": null,
   "id": "fd63acd9-e43d-4d7d-bb42-68b0a895aa00",
   "metadata": {},
   "outputs": [],
   "source": []
  },
  {
   "cell_type": "code",
   "execution_count": 74,
   "id": "f2fdaa4f-f8ae-42ce-9352-4805af064621",
   "metadata": {},
   "outputs": [],
   "source": [
    "import cudaq\n",
    "cudaq.set_target('qpp-cpu')\n",
    "\n",
    "\n",
    "# Define our kernel.\n",
    "@cudaq.kernel\n",
    "def kernel(qubit_count: int):\n",
    "    # Allocate our qubits.\n",
    "    qvector = cudaq.qvector(qubit_count)\n",
    "    # Place the first qubit in the superposition state.\n",
    "    h(qvector[0])\n",
    "    # Loop through the allocated qubits and apply controlled-X,\n",
    "    # or CNOT, operations between them.\n",
    "    for qubit in range(qubit_count - 1):\n",
    "        x.ctrl(qvector[qubit], qvector[qubit + 1])\n",
    "    # Measure the qubits.\n",
    "    mz(qvector)"
   ]
  },
  {
   "cell_type": "code",
   "execution_count": 75,
   "id": "75812265-038b-434a-8273-aeffa52047cb",
   "metadata": {},
   "outputs": [
    {
     "ename": "RuntimeError",
     "evalue": "qpp::applyCTRL(): Subsystems mismatch dimensions! [ctrl/dims]",
     "output_type": "error",
     "traceback": [
      "\u001b[0;31m---------------------------------------------------------------------------\u001b[0m",
      "\u001b[0;31mRuntimeError\u001b[0m                              Traceback (most recent call last)",
      "Cell \u001b[0;32mIn[75], line 2\u001b[0m\n\u001b[1;32m      1\u001b[0m qubit_count \u001b[38;5;241m=\u001b[39m \u001b[38;5;241m2\u001b[39m\n\u001b[0;32m----> 2\u001b[0m \u001b[38;5;28mprint\u001b[39m(\u001b[43mcudaq\u001b[49m\u001b[38;5;241;43m.\u001b[39;49m\u001b[43mdraw\u001b[49m\u001b[43m(\u001b[49m\u001b[43mkernel\u001b[49m\u001b[43m,\u001b[49m\u001b[43m \u001b[49m\u001b[43mqubit_count\u001b[49m\u001b[43m)\u001b[49m)\n\u001b[1;32m      3\u001b[0m results \u001b[38;5;241m=\u001b[39m cudaq\u001b[38;5;241m.\u001b[39msample(kernel, qubit_count)\n\u001b[1;32m      4\u001b[0m \u001b[38;5;66;03m# Should see a roughly 50/50 distribution between the |00> and\u001b[39;00m\n\u001b[1;32m      5\u001b[0m \u001b[38;5;66;03m# |11> states. Example: {00: 505  11: 495}\u001b[39;00m\n",
      "\u001b[0;31mRuntimeError\u001b[0m: qpp::applyCTRL(): Subsystems mismatch dimensions! [ctrl/dims]"
     ]
    }
   ],
   "source": [
    "qubit_count = 2\n",
    "print(cudaq.draw(kernel, qubit_count))\n",
    "results = cudaq.sample(kernel, qubit_count)\n",
    "# Should see a roughly 50/50 distribution between the |00> and\n",
    "# |11> states. Example: {00: 505  11: 495}\n",
    "print(\"Measurement distribution:\" + str(results))"
   ]
  },
  {
   "cell_type": "code",
   "execution_count": null,
   "id": "67396754-e127-4463-bc36-25c039edc4f3",
   "metadata": {},
   "outputs": [],
   "source": []
  },
  {
   "cell_type": "code",
   "execution_count": null,
   "id": "3913e7bb-2e4e-4ed8-a155-06881b3ae221",
   "metadata": {},
   "outputs": [],
   "source": []
  },
  {
   "cell_type": "code",
   "execution_count": null,
   "id": "51d35a1d-b6bf-41a9-8f8f-47d90eac722c",
   "metadata": {},
   "outputs": [],
   "source": []
  },
  {
   "cell_type": "code",
   "execution_count": 55,
   "id": "81000d9c-9ec7-4d0a-89eb-ae41bec99f3f",
   "metadata": {},
   "outputs": [
    {
     "data": {
      "text/plain": [
       "{10: 0.92}"
      ]
     },
     "execution_count": 55,
     "metadata": {},
     "output_type": "execute_result"
    }
   ],
   "source": [
    "acc"
   ]
  },
  {
   "cell_type": "code",
   "execution_count": 47,
   "id": "ad3c3e57-996e-47a1-ab89-d30170761229",
   "metadata": {},
   "outputs": [
    {
     "data": {
      "text/plain": [
       "100"
      ]
     },
     "execution_count": 47,
     "metadata": {},
     "output_type": "execute_result"
    }
   ],
   "source": [
    "num_clone"
   ]
  },
  {
   "cell_type": "code",
   "execution_count": null,
   "id": "5aac55c5-c960-4211-b015-262d9979de6c",
   "metadata": {},
   "outputs": [],
   "source": []
  },
  {
   "cell_type": "code",
   "execution_count": null,
   "id": "96882628-9b27-4301-b900-96e959e2fa63",
   "metadata": {},
   "outputs": [],
   "source": []
  },
  {
   "cell_type": "code",
   "execution_count": null,
   "id": "b9133d7c-223b-446c-9668-a1f29ca8ea5e",
   "metadata": {},
   "outputs": [],
   "source": []
  },
  {
   "cell_type": "code",
   "execution_count": null,
   "id": "4ef86dbe-b6f5-497d-a34b-a6f162b5bb5f",
   "metadata": {},
   "outputs": [],
   "source": []
  },
  {
   "cell_type": "code",
   "execution_count": null,
   "id": "52453949-04bc-43c7-afc3-4152450fb5d1",
   "metadata": {},
   "outputs": [],
   "source": []
  },
  {
   "cell_type": "code",
   "execution_count": null,
   "id": "a354c027-4b38-4e64-9444-dd32cb70fc34",
   "metadata": {},
   "outputs": [],
   "source": []
  },
  {
   "cell_type": "code",
   "execution_count": null,
   "id": "9c92a3d9-1ce0-4ab3-82b1-6f10b4c18903",
   "metadata": {},
   "outputs": [],
   "source": []
  },
  {
   "cell_type": "code",
   "execution_count": null,
   "id": "e8f5937d-8175-4bf3-8c7a-addc5137d412",
   "metadata": {},
   "outputs": [],
   "source": []
  },
  {
   "cell_type": "code",
   "execution_count": 56,
   "id": "9d48c5b0-307c-4d98-bf3f-22c67318c8a0",
   "metadata": {},
   "outputs": [
    {
     "data": {
      "text/plain": [
       "[[1729576835.8263264,\n",
       "  1729576836.3530612,\n",
       "  1729576839.9159443,\n",
       "  1729576839.9160333]]"
      ]
     },
     "execution_count": 56,
     "metadata": {},
     "output_type": "execute_result"
    }
   ],
   "source": [
    "_tms"
   ]
  },
  {
   "cell_type": "code",
   "execution_count": null,
   "id": "4d427efb-4b14-4c10-a35e-c3bb53e62722",
   "metadata": {},
   "outputs": [],
   "source": []
  },
  {
   "cell_type": "code",
   "execution_count": null,
   "id": "f3cf0c30-afcb-4cdb-860d-849c2db8920a",
   "metadata": {},
   "outputs": [],
   "source": []
  },
  {
   "cell_type": "code",
   "execution_count": 133,
   "id": "17f38919-8d63-4e76-93e8-7f7e6b80566e",
   "metadata": {},
   "outputs": [
    {
     "data": {
      "text/plain": [
       "0.18765616416931152"
      ]
     },
     "execution_count": 133,
     "metadata": {},
     "output_type": "execute_result"
    }
   ],
   "source": [
    "tms[8][0][1] - tms[8][0][0]"
   ]
  },
  {
   "cell_type": "code",
   "execution_count": 141,
   "id": "463465ac-9c60-4e6d-8488-d8fc85622778",
   "metadata": {},
   "outputs": [
    {
     "data": {
      "text/plain": [
       "0.3630859851837158"
      ]
     },
     "execution_count": 141,
     "metadata": {},
     "output_type": "execute_result"
    }
   ],
   "source": [
    "tms[8][0][2] - tms[8][0][1]"
   ]
  },
  {
   "cell_type": "code",
   "execution_count": 140,
   "id": "224f7a21-fb1b-4bdf-82cf-d64bf21df321",
   "metadata": {},
   "outputs": [
    {
     "data": {
      "text/plain": [
       "9.226799011230469e-05"
      ]
     },
     "execution_count": 140,
     "metadata": {},
     "output_type": "execute_result"
    }
   ],
   "source": [
    "tms[8][0][3] - tms[8][0][2]"
   ]
  },
  {
   "cell_type": "code",
   "execution_count": 144,
   "id": "ec237aa8-0899-4d97-b14e-59b4eaf3035e",
   "metadata": {},
   "outputs": [
    {
     "data": {
      "text/plain": [
       "[301,\n",
       " 61,\n",
       " 61,\n",
       " 61,\n",
       " 931,\n",
       " 1313,\n",
       " 281,\n",
       " 552,\n",
       " 931,\n",
       " 382,\n",
       " 1124,\n",
       " 931,\n",
       " 1540,\n",
       " 1578,\n",
       " 1638,\n",
       " 951,\n",
       " 1524,\n",
       " 1314]"
      ]
     },
     "execution_count": 144,
     "metadata": {},
     "output_type": "execute_result"
    }
   ],
   "source": [
    "tokens_list[0]"
   ]
  },
  {
   "cell_type": "code",
   "execution_count": 145,
   "id": "9d6c20c0-4cea-4c7f-b25f-78f4eb34faeb",
   "metadata": {
    "scrolled": true
   },
   "outputs": [
    {
     "data": {
      "text/plain": [
       "tensor([[[0.0000e+00, 5.8094e-05, 2.8459e-04,  ..., 0.0000e+00,\n",
       "          0.0000e+00, 0.0000e+00],\n",
       "         [0.0000e+00, 1.6523e-05, 7.8871e-05,  ..., 0.0000e+00,\n",
       "          0.0000e+00, 0.0000e+00],\n",
       "         [0.0000e+00, 1.3991e-05, 5.8746e-05,  ..., 0.0000e+00,\n",
       "          0.0000e+00, 0.0000e+00],\n",
       "         ...,\n",
       "         [8.5405e-04, 2.1273e-04, 1.6031e-03,  ..., 0.0000e+00,\n",
       "          0.0000e+00, 0.0000e+00],\n",
       "         [8.5707e-04, 2.8691e-04, 2.0351e-03,  ..., 0.0000e+00,\n",
       "          0.0000e+00, 0.0000e+00],\n",
       "         [9.7887e-04, 1.1520e-04, 1.7305e-03,  ..., 0.0000e+00,\n",
       "          0.0000e+00, 0.0000e+00]],\n",
       "\n",
       "        [[0.0000e+00, 5.8094e-05, 2.8459e-04,  ..., 0.0000e+00,\n",
       "          0.0000e+00, 0.0000e+00],\n",
       "         [0.0000e+00, 9.0451e-05, 6.5991e-04,  ..., 0.0000e+00,\n",
       "          0.0000e+00, 0.0000e+00],\n",
       "         [0.0000e+00, 3.3207e-05, 1.7845e-04,  ..., 0.0000e+00,\n",
       "          0.0000e+00, 0.0000e+00],\n",
       "         ...,\n",
       "         [3.0853e-04, 5.8113e-04, 1.5461e-03,  ..., 0.0000e+00,\n",
       "          0.0000e+00, 0.0000e+00],\n",
       "         [2.6471e-04, 6.5755e-04, 1.4126e-03,  ..., 0.0000e+00,\n",
       "          0.0000e+00, 0.0000e+00],\n",
       "         [4.5788e-04, 2.2928e-04, 1.8038e-03,  ..., 0.0000e+00,\n",
       "          0.0000e+00, 0.0000e+00]],\n",
       "\n",
       "        [[0.0000e+00, 5.8094e-05, 2.8459e-04,  ..., 0.0000e+00,\n",
       "          0.0000e+00, 0.0000e+00],\n",
       "         [0.0000e+00, 6.8377e-05, 4.3000e-04,  ..., 0.0000e+00,\n",
       "          0.0000e+00, 0.0000e+00],\n",
       "         [0.0000e+00, 3.9658e-05, 2.6875e-05,  ..., 0.0000e+00,\n",
       "          0.0000e+00, 0.0000e+00],\n",
       "         ...,\n",
       "         [1.4310e-04, 1.6206e-04, 4.1109e-04,  ..., 0.0000e+00,\n",
       "          0.0000e+00, 0.0000e+00],\n",
       "         [7.5228e-04, 2.0268e-04, 5.9062e-04,  ..., 0.0000e+00,\n",
       "          0.0000e+00, 0.0000e+00],\n",
       "         [6.8848e-04, 2.4141e-04, 4.6227e-04,  ..., 0.0000e+00,\n",
       "          0.0000e+00, 0.0000e+00]],\n",
       "\n",
       "        ...,\n",
       "\n",
       "        [[0.0000e+00, 5.8094e-05, 2.8459e-04,  ..., 0.0000e+00,\n",
       "          0.0000e+00, 0.0000e+00],\n",
       "         [0.0000e+00, 1.6523e-05, 7.8871e-05,  ..., 0.0000e+00,\n",
       "          0.0000e+00, 0.0000e+00],\n",
       "         [0.0000e+00, 1.3991e-05, 5.8746e-05,  ..., 0.0000e+00,\n",
       "          0.0000e+00, 0.0000e+00],\n",
       "         ...,\n",
       "         [4.1298e-04, 3.1998e-04, 1.3189e-03,  ..., 0.0000e+00,\n",
       "          0.0000e+00, 0.0000e+00],\n",
       "         [6.4722e-04, 3.2387e-04, 1.3185e-03,  ..., 0.0000e+00,\n",
       "          0.0000e+00, 0.0000e+00],\n",
       "         [1.4154e-03, 1.9807e-04, 1.3108e-03,  ..., 0.0000e+00,\n",
       "          0.0000e+00, 0.0000e+00]],\n",
       "\n",
       "        [[0.0000e+00, 5.8094e-05, 2.8459e-04,  ..., 0.0000e+00,\n",
       "          0.0000e+00, 0.0000e+00],\n",
       "         [0.0000e+00, 1.6523e-05, 7.8871e-05,  ..., 0.0000e+00,\n",
       "          0.0000e+00, 0.0000e+00],\n",
       "         [0.0000e+00, 1.3991e-05, 5.8746e-05,  ..., 0.0000e+00,\n",
       "          0.0000e+00, 0.0000e+00],\n",
       "         ...,\n",
       "         [2.9774e-04, 1.1311e-04, 3.1336e-04,  ..., 0.0000e+00,\n",
       "          0.0000e+00, 0.0000e+00],\n",
       "         [8.8206e-04, 2.3092e-04, 1.9519e-03,  ..., 0.0000e+00,\n",
       "          0.0000e+00, 0.0000e+00],\n",
       "         [8.8977e-04, 2.5496e-04, 2.2212e-03,  ..., 0.0000e+00,\n",
       "          0.0000e+00, 0.0000e+00]],\n",
       "\n",
       "        [[0.0000e+00, 5.8094e-05, 2.8459e-04,  ..., 0.0000e+00,\n",
       "          0.0000e+00, 0.0000e+00],\n",
       "         [0.0000e+00, 6.4435e-05, 3.2445e-04,  ..., 0.0000e+00,\n",
       "          0.0000e+00, 0.0000e+00],\n",
       "         [0.0000e+00, 7.5938e-05, 3.7123e-04,  ..., 0.0000e+00,\n",
       "          0.0000e+00, 0.0000e+00],\n",
       "         ...,\n",
       "         [1.7358e-04, 4.8746e-04, 1.4445e-04,  ..., 0.0000e+00,\n",
       "          0.0000e+00, 0.0000e+00],\n",
       "         [1.9838e-04, 5.9862e-04, 1.9643e-04,  ..., 0.0000e+00,\n",
       "          0.0000e+00, 0.0000e+00],\n",
       "         [4.2405e-04, 1.2469e-04, 1.9073e-04,  ..., 0.0000e+00,\n",
       "          0.0000e+00, 0.0000e+00]]], device='cuda:0')"
      ]
     },
     "execution_count": 145,
     "metadata": {},
     "output_type": "execute_result"
    }
   ],
   "source": [
    "probs_all"
   ]
  },
  {
   "cell_type": "code",
   "execution_count": 148,
   "id": "84c7973b-a11c-4de6-a399-544ee235215a",
   "metadata": {},
   "outputs": [],
   "source": [
    "from torch.nn import functional as F"
   ]
  },
  {
   "cell_type": "code",
   "execution_count": 151,
   "id": "45030979-0ab5-45f0-9795-77c93b327b96",
   "metadata": {},
   "outputs": [
    {
     "name": "stdout",
     "output_type": "stream",
     "text": [
      "tensor(-1.4553, device='cuda:0')\n",
      "tensor(-3.0167, device='cuda:0')\n",
      "tensor(-2.4053, device='cuda:0')\n",
      "tensor(-1.5233, device='cuda:0')\n",
      "tensor(-1.5086, device='cuda:0')\n",
      "tensor(-1.8346, device='cuda:0')\n",
      "tensor(-1.2233, device='cuda:0')\n",
      "tensor(-4.2374, device='cuda:0')\n",
      "tensor(-2.2554, device='cuda:0')\n",
      "tensor(-2.3396, device='cuda:0')\n",
      "tensor(-0.2694, device='cuda:0')\n",
      "tensor(-1.3898, device='cuda:0')\n",
      "tensor(-1.9616, device='cuda:0')\n",
      "tensor(-1.6924, device='cuda:0')\n",
      "tensor(-0.9581, device='cuda:0')\n",
      "tensor(-1.1433, device='cuda:0')\n",
      "tensor(-1.6621, device='cuda:0')\n",
      "tensor(-1.4130, device='cuda:0')\n",
      "tensor(-0.8724, device='cuda:0')\n",
      "tensor(-3.8516, device='cuda:0')\n"
     ]
    }
   ],
   "source": [
    "for w in range(len(tokens_list)):\n",
    "    token_w = tokens_list[w]\n",
    "    probs_w = probs_all[w, :len(token_w)].clone()\n",
    "    onehot_w = F.one_hot(torch.tensor(token_w), num_classes=args.vocab_size).to(device)\n",
    "    log_psum_w = torch.sum(torch.log(probs_w**onehot_w) / len(token_w))\n",
    "    print(log_psum_w)"
   ]
  },
  {
   "cell_type": "code",
   "execution_count": 150,
   "id": "f675c09e-500f-4e81-95ec-6664082a8c33",
   "metadata": {},
   "outputs": [
    {
     "data": {
      "text/plain": [
       "tensor(-1.4553, device='cuda:0')"
      ]
     },
     "execution_count": 150,
     "metadata": {},
     "output_type": "execute_result"
    }
   ],
   "source": [
    "log_psum_w"
   ]
  },
  {
   "cell_type": "code",
   "execution_count": null,
   "id": "1c53d25f-0786-4230-bd6f-40fdad52cd1f",
   "metadata": {},
   "outputs": [],
   "source": []
  },
  {
   "cell_type": "code",
   "execution_count": null,
   "id": "dece21e6-8797-4272-b886-190fafc6bd48",
   "metadata": {},
   "outputs": [],
   "source": []
  },
  {
   "cell_type": "code",
   "execution_count": null,
   "id": "5a3aa4da-1e22-495e-8493-4bb152d09228",
   "metadata": {},
   "outputs": [],
   "source": []
  },
  {
   "cell_type": "code",
   "execution_count": null,
   "id": "e9582abd-e42f-469a-b9ed-1fc171e65fcd",
   "metadata": {},
   "outputs": [],
   "source": []
  },
  {
   "cell_type": "code",
   "execution_count": null,
   "id": "c0a0cc2e-b434-4542-9a77-af3bb927e0e6",
   "metadata": {},
   "outputs": [],
   "source": []
  },
  {
   "cell_type": "code",
   "execution_count": null,
   "id": "0a2fd9a9-e71d-4755-9aab-5d0d9235f5db",
   "metadata": {},
   "outputs": [],
   "source": []
  },
  {
   "cell_type": "code",
   "execution_count": 142,
   "id": "d286dd1f-fbc6-4104-9347-f39d679a2543",
   "metadata": {},
   "outputs": [
    {
     "data": {
      "text/plain": [
       "tensor([[[0.0000e+00, 5.8094e-05, 2.8459e-04,  ..., 0.0000e+00,\n",
       "          0.0000e+00, 0.0000e+00],\n",
       "         [0.0000e+00, 1.6523e-05, 7.8871e-05,  ..., 0.0000e+00,\n",
       "          0.0000e+00, 0.0000e+00],\n",
       "         [0.0000e+00, 1.3991e-05, 5.8746e-05,  ..., 0.0000e+00,\n",
       "          0.0000e+00, 0.0000e+00],\n",
       "         ...,\n",
       "         [8.5405e-04, 2.1273e-04, 1.6031e-03,  ..., 0.0000e+00,\n",
       "          0.0000e+00, 0.0000e+00],\n",
       "         [8.5707e-04, 2.8691e-04, 2.0351e-03,  ..., 0.0000e+00,\n",
       "          0.0000e+00, 0.0000e+00],\n",
       "         [9.7887e-04, 1.1520e-04, 1.7305e-03,  ..., 0.0000e+00,\n",
       "          0.0000e+00, 0.0000e+00]],\n",
       "\n",
       "        [[0.0000e+00, 5.8094e-05, 2.8459e-04,  ..., 0.0000e+00,\n",
       "          0.0000e+00, 0.0000e+00],\n",
       "         [0.0000e+00, 9.0451e-05, 6.5991e-04,  ..., 0.0000e+00,\n",
       "          0.0000e+00, 0.0000e+00],\n",
       "         [0.0000e+00, 3.3207e-05, 1.7845e-04,  ..., 0.0000e+00,\n",
       "          0.0000e+00, 0.0000e+00],\n",
       "         ...,\n",
       "         [3.0853e-04, 5.8113e-04, 1.5461e-03,  ..., 0.0000e+00,\n",
       "          0.0000e+00, 0.0000e+00],\n",
       "         [2.6471e-04, 6.5755e-04, 1.4126e-03,  ..., 0.0000e+00,\n",
       "          0.0000e+00, 0.0000e+00],\n",
       "         [4.5788e-04, 2.2928e-04, 1.8038e-03,  ..., 0.0000e+00,\n",
       "          0.0000e+00, 0.0000e+00]],\n",
       "\n",
       "        [[0.0000e+00, 5.8094e-05, 2.8459e-04,  ..., 0.0000e+00,\n",
       "          0.0000e+00, 0.0000e+00],\n",
       "         [0.0000e+00, 6.8377e-05, 4.3000e-04,  ..., 0.0000e+00,\n",
       "          0.0000e+00, 0.0000e+00],\n",
       "         [0.0000e+00, 3.9658e-05, 2.6875e-05,  ..., 0.0000e+00,\n",
       "          0.0000e+00, 0.0000e+00],\n",
       "         ...,\n",
       "         [1.4310e-04, 1.6206e-04, 4.1109e-04,  ..., 0.0000e+00,\n",
       "          0.0000e+00, 0.0000e+00],\n",
       "         [7.5228e-04, 2.0268e-04, 5.9062e-04,  ..., 0.0000e+00,\n",
       "          0.0000e+00, 0.0000e+00],\n",
       "         [6.8848e-04, 2.4141e-04, 4.6227e-04,  ..., 0.0000e+00,\n",
       "          0.0000e+00, 0.0000e+00]],\n",
       "\n",
       "        ...,\n",
       "\n",
       "        [[0.0000e+00, 5.8094e-05, 2.8459e-04,  ..., 0.0000e+00,\n",
       "          0.0000e+00, 0.0000e+00],\n",
       "         [0.0000e+00, 1.6523e-05, 7.8871e-05,  ..., 0.0000e+00,\n",
       "          0.0000e+00, 0.0000e+00],\n",
       "         [0.0000e+00, 1.3991e-05, 5.8746e-05,  ..., 0.0000e+00,\n",
       "          0.0000e+00, 0.0000e+00],\n",
       "         ...,\n",
       "         [4.1298e-04, 3.1998e-04, 1.3189e-03,  ..., 0.0000e+00,\n",
       "          0.0000e+00, 0.0000e+00],\n",
       "         [6.4722e-04, 3.2387e-04, 1.3185e-03,  ..., 0.0000e+00,\n",
       "          0.0000e+00, 0.0000e+00],\n",
       "         [1.4154e-03, 1.9807e-04, 1.3108e-03,  ..., 0.0000e+00,\n",
       "          0.0000e+00, 0.0000e+00]],\n",
       "\n",
       "        [[0.0000e+00, 5.8094e-05, 2.8459e-04,  ..., 0.0000e+00,\n",
       "          0.0000e+00, 0.0000e+00],\n",
       "         [0.0000e+00, 1.6523e-05, 7.8871e-05,  ..., 0.0000e+00,\n",
       "          0.0000e+00, 0.0000e+00],\n",
       "         [0.0000e+00, 1.3991e-05, 5.8746e-05,  ..., 0.0000e+00,\n",
       "          0.0000e+00, 0.0000e+00],\n",
       "         ...,\n",
       "         [2.9774e-04, 1.1311e-04, 3.1336e-04,  ..., 0.0000e+00,\n",
       "          0.0000e+00, 0.0000e+00],\n",
       "         [8.8206e-04, 2.3092e-04, 1.9519e-03,  ..., 0.0000e+00,\n",
       "          0.0000e+00, 0.0000e+00],\n",
       "         [8.8977e-04, 2.5496e-04, 2.2212e-03,  ..., 0.0000e+00,\n",
       "          0.0000e+00, 0.0000e+00]],\n",
       "\n",
       "        [[0.0000e+00, 5.8094e-05, 2.8459e-04,  ..., 0.0000e+00,\n",
       "          0.0000e+00, 0.0000e+00],\n",
       "         [0.0000e+00, 6.4435e-05, 3.2445e-04,  ..., 0.0000e+00,\n",
       "          0.0000e+00, 0.0000e+00],\n",
       "         [0.0000e+00, 7.5938e-05, 3.7123e-04,  ..., 0.0000e+00,\n",
       "          0.0000e+00, 0.0000e+00],\n",
       "         ...,\n",
       "         [1.7358e-04, 4.8746e-04, 1.4445e-04,  ..., 0.0000e+00,\n",
       "          0.0000e+00, 0.0000e+00],\n",
       "         [1.9838e-04, 5.9862e-04, 1.9643e-04,  ..., 0.0000e+00,\n",
       "          0.0000e+00, 0.0000e+00],\n",
       "         [4.2405e-04, 1.2469e-04, 1.9073e-04,  ..., 0.0000e+00,\n",
       "          0.0000e+00, 0.0000e+00]]], device='cuda:0')"
      ]
     },
     "execution_count": 142,
     "metadata": {},
     "output_type": "execute_result"
    }
   ],
   "source": [
    "probs_all"
   ]
  },
  {
   "cell_type": "code",
   "execution_count": null,
   "id": "494c94ed-dcf2-417a-a3e5-a9ab712630b6",
   "metadata": {},
   "outputs": [],
   "source": []
  },
  {
   "cell_type": "code",
   "execution_count": null,
   "id": "f6ad36ee-eee3-4f26-924a-d5b6dc699bfc",
   "metadata": {},
   "outputs": [],
   "source": []
  },
  {
   "cell_type": "code",
   "execution_count": null,
   "id": "c9e9ea9a-212a-4d4f-9171-f66ced186792",
   "metadata": {},
   "outputs": [],
   "source": []
  },
  {
   "cell_type": "code",
   "execution_count": 5,
   "id": "656973e3-b17f-49ea-aa54-5894a43cc4a9",
   "metadata": {},
   "outputs": [
    {
     "ename": "ModuleNotFoundError",
     "evalue": "No module named 'gqco.train_lightning'",
     "output_type": "error",
     "traceback": [
      "\u001b[0;31m---------------------------------------------------------------------------\u001b[0m",
      "\u001b[0;31mModuleNotFoundError\u001b[0m                       Traceback (most recent call last)",
      "Cell \u001b[0;32mIn[5], line 10\u001b[0m\n\u001b[1;32m      8\u001b[0m \u001b[38;5;28;01mfrom\u001b[39;00m \u001b[38;5;21;01mtqdm\u001b[39;00m\u001b[38;5;21;01m.\u001b[39;00m\u001b[38;5;21;01mnotebook\u001b[39;00m \u001b[38;5;28;01mimport\u001b[39;00m tqdm\n\u001b[1;32m      9\u001b[0m \u001b[38;5;28;01mfrom\u001b[39;00m \u001b[38;5;21;01mIPython\u001b[39;00m\u001b[38;5;21;01m.\u001b[39;00m\u001b[38;5;21;01mdisplay\u001b[39;00m \u001b[38;5;28;01mimport\u001b[39;00m display, Math\n\u001b[0;32m---> 10\u001b[0m \u001b[38;5;28;01mfrom\u001b[39;00m \u001b[38;5;21;01mgqco\u001b[39;00m\u001b[38;5;21;01m.\u001b[39;00m\u001b[38;5;21;01mtrain_lightning\u001b[39;00m \u001b[38;5;28;01mimport\u001b[39;00m MyModel\n\u001b[1;32m     11\u001b[0m \u001b[38;5;28;01mfrom\u001b[39;00m \u001b[38;5;21;01mgqco\u001b[39;00m\u001b[38;5;21;01m.\u001b[39;00m\u001b[38;5;21;01mmodel\u001b[39;00m \u001b[38;5;28;01mimport\u001b[39;00m CustomEncoderDecoderModel\n\u001b[1;32m     12\u001b[0m \u001b[38;5;28;01mfrom\u001b[39;00m \u001b[38;5;21;01mgqco\u001b[39;00m\u001b[38;5;21;01m.\u001b[39;00m\u001b[38;5;21;01mutils\u001b[39;00m \u001b[38;5;28;01mimport\u001b[39;00m fix_seed\n",
      "\u001b[0;31mModuleNotFoundError\u001b[0m: No module named 'gqco.train_lightning'"
     ]
    }
   ],
   "source": [
    "import random\n",
    "import pickle\n",
    "import numpy as np\n",
    "import seaborn as sns\n",
    "import torch\n",
    "import pandas as pd\n",
    "import matplotlib.pyplot as plt\n",
    "from tqdm.notebook import tqdm\n",
    "from IPython.display import display, Math\n",
    "from gqco.train import MyModel\n",
    "from gqco.model import CustomEncoderDecoderModel\n",
    "from gqco.utils import fix_seed\n",
    "from gqco.train import generate_data, _arange_token\n",
    "from gqco.solve import solve_from_token, plot_from_dict, adj_to_text\n",
    "\n",
    "import importlib\n",
    "def fun_reload(pkg):\n",
    "    module = importlib.import_module(pkg)\n",
    "    module = importlib.reload(module)\n",
    "    attrs = {attr: getattr(module, attr) for attr in dir(module)}\n",
    "    globals().update(attrs)\n",
    "\n",
    "fun_reload('gqeco.solve')"
   ]
  },
  {
   "cell_type": "code",
   "execution_count": 3,
   "id": "d90dff1c-129b-46bb-b932-e75c03a8a1b2",
   "metadata": {},
   "outputs": [],
   "source": [
    "def mysetup(_type):\n",
    "\n",
    "    if _type == 'only3':\n",
    "        job_id = 42719343\n",
    "        epoch = 26799\n",
    "        num_qubit = 3\n",
    "        size_list = [3]\n",
    "    if _type == '3to5':        \n",
    "        job_id = 42745012\n",
    "        epoch = 27999\n",
    "        num_qubit = 5\n",
    "        size_list = [3, 4, 5]\n",
    "    \n",
    "    with open(f'outputs/{job_id}/taskobjects.pkl', 'rb') as f: \n",
    "        obj = pickle.load(f)\n",
    "    gqeco = obj['task']\n",
    "    args = obj['args']\n",
    "\n",
    "    model = CustomEncoderDecoderModel(args)\n",
    "    model = MyModel.load_from_checkpoint(f'outputs/{job_id}/checkpoints/epoch={epoch}.ckpt', model=model, task=gqeco, args=args)\n",
    "\n",
    "    return model, gqeco, args, num_qubit, size_list"
   ]
  },
  {
   "cell_type": "code",
   "execution_count": 4,
   "id": "de6e80bb-34db-4065-922b-701f2b2da04a",
   "metadata": {},
   "outputs": [],
   "source": [
    "def Mysolver(taskobj, model, adj, record, args, num_try=1, temperature=1, same_token_penalty=0.0, num_shot=-1, is_print=True, random_token=False, cast=False, savefile=None):\n",
    "\n",
    "    nq = max(torch.count_nonzero(abs(adj).sum(0)), torch.count_nonzero(abs(adj).sum(1)))\n",
    "    # print(nq)\n",
    "\n",
    "    if is_print:\n",
    "        print('-- Objective --')\n",
    "        adj_to_text(adj)\n",
    "        print('\\n')\n",
    "    \n",
    "    if not random_token:\n",
    "        with torch.no_grad():  \n",
    "            if cast:\n",
    "                with torch.autocast('cpu'):\n",
    "                    out_tokens, probs_all, _, logits_all = model.model.forward(record, temperature=temperature)\n",
    "            else:\n",
    "                out_tokens, probs_all, _, logits_all = model.model.forward(record, temperature=temperature)\n",
    "\n",
    "        tokens_list = [_arange_token(t, args) for t in out_tokens.detach().tolist()]\n",
    "    if random_token:\n",
    "        tokens_list = []\n",
    "        for i in range(num_try):\n",
    "            _len = random.randint(args.min_generation, args.max_generation)\n",
    "            t = [random.randint(1, args.vocab_size-1) for _ in range(_len)]\n",
    "            tokens_list += [t]\n",
    "\n",
    "    es = [taskobj.compute_energy(t, adj, num_shot) for t in tokens_list]\n",
    "    index_of_min = es.index(min(es))\n",
    "    min_token = tokens_list[index_of_min]\n",
    "    min_energy = es[index_of_min]\n",
    "\n",
    "    dict_pred, dict_true, qc = solve_from_token(taskobj, min_token, adj, is_print, savefile)\n",
    "\n",
    "    if is_print:\n",
    "        print('-- Result --')\n",
    "        plot_from_dict(dict_pred, dict_true, savefile)\n",
    "\n",
    "\n",
    "    model_ans = max(dict_pred, key=dict_pred.get)\n",
    "    exact_ans = min(dict_true, key=dict_true.get)\n",
    "\n",
    "\n",
    "    return {\n",
    "        'model token': min_token, \n",
    "        'model energy': min_energy, \n",
    "        'model probability': dict_pred, \n",
    "        'model answer': model_ans, \n",
    "        'exact energies': dict_true, \n",
    "        'exact answer': exact_ans,\n",
    "        'exact energy': dict_true[exact_ans],\n",
    "        'circuit': qc\n",
    "    }"
   ]
  },
  {
   "cell_type": "code",
   "execution_count": 5,
   "id": "0684db62-0b5f-4c57-98c7-cb3028784352",
   "metadata": {},
   "outputs": [
    {
     "data": {
      "application/vnd.jupyter.widget-view+json": {
       "model_id": "8dbc5427511c499da896fac63c8b567c",
       "version_major": 2,
       "version_minor": 0
      },
      "text/plain": [
       "[type: 3to5, size: 4, nt: 1, temp:0.1]:   0%|          | 0/1000 [00:00<?, ?it/s]"
      ]
     },
     "metadata": {},
     "output_type": "display_data"
    },
    {
     "name": "stderr",
     "output_type": "stream",
     "text": [
      "/tmp/42757388.1.gpu/ipykernel_3958659/2376897661.py:31: FutureWarning: The behavior of DataFrame concatenation with empty or all-NA entries is deprecated. In a future version, this will no longer exclude empty or all-NA columns when determining the result dtypes. To retain the old behavior, exclude the relevant entries before the concat operation.\n",
      "  df = pd.concat([df, pd.DataFrame([result])], ignore_index=True)\n"
     ]
    },
    {
     "data": {
      "application/vnd.jupyter.widget-view+json": {
       "model_id": "877e5cf7088e40ffb202451dac8d50a7",
       "version_major": 2,
       "version_minor": 0
      },
      "text/plain": [
       "[type: 3to5, size: 4, nt: 1, temp:0.5]:   0%|          | 0/1000 [00:00<?, ?it/s]"
      ]
     },
     "metadata": {},
     "output_type": "display_data"
    },
    {
     "data": {
      "application/vnd.jupyter.widget-view+json": {
       "model_id": "fa2b957aa4694ee28e6aea6ea83421c1",
       "version_major": 2,
       "version_minor": 0
      },
      "text/plain": [
       "[type: 3to5, size: 4, nt: 1, temp:1.0]:   0%|          | 0/1000 [00:00<?, ?it/s]"
      ]
     },
     "metadata": {},
     "output_type": "display_data"
    },
    {
     "data": {
      "application/vnd.jupyter.widget-view+json": {
       "model_id": "7a4512c85edf44eeaaf3a9e0cd17f9a5",
       "version_major": 2,
       "version_minor": 0
      },
      "text/plain": [
       "[type: 3to5, size: 4, nt: 1, temp:2.0]:   0%|          | 0/1000 [00:00<?, ?it/s]"
      ]
     },
     "metadata": {},
     "output_type": "display_data"
    },
    {
     "data": {
      "application/vnd.jupyter.widget-view+json": {
       "model_id": "dfdafaf52528463581df55ec1f2edf99",
       "version_major": 2,
       "version_minor": 0
      },
      "text/plain": [
       "[type: 3to5, size: 4, nt: 1, temp:10.0]:   0%|          | 0/1000 [00:00<?, ?it/s]"
      ]
     },
     "metadata": {},
     "output_type": "display_data"
    },
    {
     "data": {
      "application/vnd.jupyter.widget-view+json": {
       "model_id": "2328e54a892d4be08c6689a2e5784313",
       "version_major": 2,
       "version_minor": 0
      },
      "text/plain": [
       "[type: 3to5, size: 4, nt: 1, temp:-1.0]:   0%|          | 0/1000 [00:00<?, ?it/s]"
      ]
     },
     "metadata": {},
     "output_type": "display_data"
    },
    {
     "data": {
      "application/vnd.jupyter.widget-view+json": {
       "model_id": "25b804c36b514eec937e0f49b47c0212",
       "version_major": 2,
       "version_minor": 0
      },
      "text/plain": [
       "[type: 3to5, size: 4, nt: 2, temp:0.1]:   0%|          | 0/1000 [00:00<?, ?it/s]"
      ]
     },
     "metadata": {},
     "output_type": "display_data"
    },
    {
     "data": {
      "application/vnd.jupyter.widget-view+json": {
       "model_id": "508fb074241545d09aa8f409a5a7ee3a",
       "version_major": 2,
       "version_minor": 0
      },
      "text/plain": [
       "[type: 3to5, size: 4, nt: 2, temp:0.5]:   0%|          | 0/1000 [00:00<?, ?it/s]"
      ]
     },
     "metadata": {},
     "output_type": "display_data"
    },
    {
     "data": {
      "application/vnd.jupyter.widget-view+json": {
       "model_id": "5c0e04f881d8402c922b6b9a17727d0b",
       "version_major": 2,
       "version_minor": 0
      },
      "text/plain": [
       "[type: 3to5, size: 4, nt: 2, temp:1.0]:   0%|          | 0/1000 [00:00<?, ?it/s]"
      ]
     },
     "metadata": {},
     "output_type": "display_data"
    },
    {
     "data": {
      "application/vnd.jupyter.widget-view+json": {
       "model_id": "9dbbacf75ba04a9bb7a1d18cd0af8bdd",
       "version_major": 2,
       "version_minor": 0
      },
      "text/plain": [
       "[type: 3to5, size: 4, nt: 2, temp:2.0]:   0%|          | 0/1000 [00:00<?, ?it/s]"
      ]
     },
     "metadata": {},
     "output_type": "display_data"
    },
    {
     "data": {
      "application/vnd.jupyter.widget-view+json": {
       "model_id": "01676514743444d185d33fa92fe54816",
       "version_major": 2,
       "version_minor": 0
      },
      "text/plain": [
       "[type: 3to5, size: 4, nt: 2, temp:10.0]:   0%|          | 0/1000 [00:00<?, ?it/s]"
      ]
     },
     "metadata": {},
     "output_type": "display_data"
    },
    {
     "data": {
      "application/vnd.jupyter.widget-view+json": {
       "model_id": "ac0f838874ca485aba348aa976c4945f",
       "version_major": 2,
       "version_minor": 0
      },
      "text/plain": [
       "[type: 3to5, size: 4, nt: 2, temp:-1.0]:   0%|          | 0/1000 [00:00<?, ?it/s]"
      ]
     },
     "metadata": {},
     "output_type": "display_data"
    },
    {
     "data": {
      "application/vnd.jupyter.widget-view+json": {
       "model_id": "b9db8b1c4c7948459616a8f9b6892f5b",
       "version_major": 2,
       "version_minor": 0
      },
      "text/plain": [
       "[type: 3to5, size: 4, nt: 5, temp:0.1]:   0%|          | 0/1000 [00:00<?, ?it/s]"
      ]
     },
     "metadata": {},
     "output_type": "display_data"
    },
    {
     "data": {
      "application/vnd.jupyter.widget-view+json": {
       "model_id": "cd15482ad03f4d809c03b5c242ae6db9",
       "version_major": 2,
       "version_minor": 0
      },
      "text/plain": [
       "[type: 3to5, size: 4, nt: 5, temp:0.5]:   0%|          | 0/1000 [00:00<?, ?it/s]"
      ]
     },
     "metadata": {},
     "output_type": "display_data"
    },
    {
     "data": {
      "application/vnd.jupyter.widget-view+json": {
       "model_id": "846aef78213c4a3aa83c16892b3ee621",
       "version_major": 2,
       "version_minor": 0
      },
      "text/plain": [
       "[type: 3to5, size: 4, nt: 5, temp:1.0]:   0%|          | 0/1000 [00:00<?, ?it/s]"
      ]
     },
     "metadata": {},
     "output_type": "display_data"
    },
    {
     "data": {
      "application/vnd.jupyter.widget-view+json": {
       "model_id": "383bc80e50df43a8a2d9c89d60ec5113",
       "version_major": 2,
       "version_minor": 0
      },
      "text/plain": [
       "[type: 3to5, size: 4, nt: 5, temp:2.0]:   0%|          | 0/1000 [00:00<?, ?it/s]"
      ]
     },
     "metadata": {},
     "output_type": "display_data"
    },
    {
     "data": {
      "application/vnd.jupyter.widget-view+json": {
       "model_id": "e0a6ed7eec0b4f8ab68f02cd3ae980c9",
       "version_major": 2,
       "version_minor": 0
      },
      "text/plain": [
       "[type: 3to5, size: 4, nt: 5, temp:10.0]:   0%|          | 0/1000 [00:00<?, ?it/s]"
      ]
     },
     "metadata": {},
     "output_type": "display_data"
    },
    {
     "data": {
      "application/vnd.jupyter.widget-view+json": {
       "model_id": "faad50a99e4c477f97629e71ac405fa7",
       "version_major": 2,
       "version_minor": 0
      },
      "text/plain": [
       "[type: 3to5, size: 4, nt: 5, temp:-1.0]:   0%|          | 0/1000 [00:00<?, ?it/s]"
      ]
     },
     "metadata": {},
     "output_type": "display_data"
    },
    {
     "data": {
      "application/vnd.jupyter.widget-view+json": {
       "model_id": "53f67c9e8fab4e5482b3e796eba62489",
       "version_major": 2,
       "version_minor": 0
      },
      "text/plain": [
       "[type: 3to5, size: 4, nt: 10, temp:0.1]:   0%|          | 0/1000 [00:00<?, ?it/s]"
      ]
     },
     "metadata": {},
     "output_type": "display_data"
    },
    {
     "data": {
      "application/vnd.jupyter.widget-view+json": {
       "model_id": "ec930d4731e64593b2b012d4dd3c8233",
       "version_major": 2,
       "version_minor": 0
      },
      "text/plain": [
       "[type: 3to5, size: 4, nt: 10, temp:0.5]:   0%|          | 0/1000 [00:00<?, ?it/s]"
      ]
     },
     "metadata": {},
     "output_type": "display_data"
    },
    {
     "data": {
      "application/vnd.jupyter.widget-view+json": {
       "model_id": "9f52e3151c394be1b27db51d89c1a643",
       "version_major": 2,
       "version_minor": 0
      },
      "text/plain": [
       "[type: 3to5, size: 4, nt: 10, temp:1.0]:   0%|          | 0/1000 [00:00<?, ?it/s]"
      ]
     },
     "metadata": {},
     "output_type": "display_data"
    },
    {
     "data": {
      "application/vnd.jupyter.widget-view+json": {
       "model_id": "645be3bf03fe40e8bcf6aa26cb6d7db2",
       "version_major": 2,
       "version_minor": 0
      },
      "text/plain": [
       "[type: 3to5, size: 4, nt: 10, temp:2.0]:   0%|          | 0/1000 [00:00<?, ?it/s]"
      ]
     },
     "metadata": {},
     "output_type": "display_data"
    },
    {
     "data": {
      "application/vnd.jupyter.widget-view+json": {
       "model_id": "5493a0d68fb84fad852fb0b9a9b6c8b7",
       "version_major": 2,
       "version_minor": 0
      },
      "text/plain": [
       "[type: 3to5, size: 4, nt: 10, temp:10.0]:   0%|          | 0/1000 [00:00<?, ?it/s]"
      ]
     },
     "metadata": {},
     "output_type": "display_data"
    },
    {
     "data": {
      "application/vnd.jupyter.widget-view+json": {
       "model_id": "e3f12cf035f44070b254d362ae561ba9",
       "version_major": 2,
       "version_minor": 0
      },
      "text/plain": [
       "[type: 3to5, size: 4, nt: 10, temp:-1.0]:   0%|          | 0/1000 [00:00<?, ?it/s]"
      ]
     },
     "metadata": {},
     "output_type": "display_data"
    },
    {
     "data": {
      "application/vnd.jupyter.widget-view+json": {
       "model_id": "5e2675a34bff47009d7fe471fc0dea7e",
       "version_major": 2,
       "version_minor": 0
      },
      "text/plain": [
       "[type: 3to5, size: 4, nt: 20, temp:0.1]:   0%|          | 0/1000 [00:00<?, ?it/s]"
      ]
     },
     "metadata": {},
     "output_type": "display_data"
    },
    {
     "data": {
      "application/vnd.jupyter.widget-view+json": {
       "model_id": "d267ab5c87824a3099bc61dea2e6dda8",
       "version_major": 2,
       "version_minor": 0
      },
      "text/plain": [
       "[type: 3to5, size: 4, nt: 20, temp:0.5]:   0%|          | 0/1000 [00:00<?, ?it/s]"
      ]
     },
     "metadata": {},
     "output_type": "display_data"
    },
    {
     "data": {
      "application/vnd.jupyter.widget-view+json": {
       "model_id": "7d5f96b3bfd14f3cadabdacba79cdf60",
       "version_major": 2,
       "version_minor": 0
      },
      "text/plain": [
       "[type: 3to5, size: 4, nt: 20, temp:1.0]:   0%|          | 0/1000 [00:00<?, ?it/s]"
      ]
     },
     "metadata": {},
     "output_type": "display_data"
    },
    {
     "data": {
      "application/vnd.jupyter.widget-view+json": {
       "model_id": "99c97f2df7d0458a91b751701ccd0853",
       "version_major": 2,
       "version_minor": 0
      },
      "text/plain": [
       "[type: 3to5, size: 4, nt: 20, temp:2.0]:   0%|          | 0/1000 [00:00<?, ?it/s]"
      ]
     },
     "metadata": {},
     "output_type": "display_data"
    },
    {
     "data": {
      "application/vnd.jupyter.widget-view+json": {
       "model_id": "282a9acf77a74815961aa3678d859fd5",
       "version_major": 2,
       "version_minor": 0
      },
      "text/plain": [
       "[type: 3to5, size: 4, nt: 20, temp:10.0]:   0%|          | 0/1000 [00:00<?, ?it/s]"
      ]
     },
     "metadata": {},
     "output_type": "display_data"
    },
    {
     "data": {
      "application/vnd.jupyter.widget-view+json": {
       "model_id": "a1ac2c488f92432e8a4e39e1cf594f71",
       "version_major": 2,
       "version_minor": 0
      },
      "text/plain": [
       "[type: 3to5, size: 4, nt: 20, temp:-1.0]:   0%|          | 0/1000 [00:00<?, ?it/s]"
      ]
     },
     "metadata": {},
     "output_type": "display_data"
    },
    {
     "data": {
      "application/vnd.jupyter.widget-view+json": {
       "model_id": "74439256a74348bda5f3b24e9825688b",
       "version_major": 2,
       "version_minor": 0
      },
      "text/plain": [
       "[type: 3to5, size: 5, nt: 1, temp:0.1]:   0%|          | 0/1000 [00:00<?, ?it/s]"
      ]
     },
     "metadata": {},
     "output_type": "display_data"
    },
    {
     "data": {
      "application/vnd.jupyter.widget-view+json": {
       "model_id": "d5427be66069437890b8646639fbc49c",
       "version_major": 2,
       "version_minor": 0
      },
      "text/plain": [
       "[type: 3to5, size: 5, nt: 1, temp:0.5]:   0%|          | 0/1000 [00:00<?, ?it/s]"
      ]
     },
     "metadata": {},
     "output_type": "display_data"
    },
    {
     "data": {
      "application/vnd.jupyter.widget-view+json": {
       "model_id": "c8ce13b5822b4fa5963c439f639d4e36",
       "version_major": 2,
       "version_minor": 0
      },
      "text/plain": [
       "[type: 3to5, size: 5, nt: 1, temp:1.0]:   0%|          | 0/1000 [00:00<?, ?it/s]"
      ]
     },
     "metadata": {},
     "output_type": "display_data"
    },
    {
     "data": {
      "application/vnd.jupyter.widget-view+json": {
       "model_id": "a094cc333f7d42648930e7247e8b1ff2",
       "version_major": 2,
       "version_minor": 0
      },
      "text/plain": [
       "[type: 3to5, size: 5, nt: 1, temp:2.0]:   0%|          | 0/1000 [00:00<?, ?it/s]"
      ]
     },
     "metadata": {},
     "output_type": "display_data"
    },
    {
     "data": {
      "application/vnd.jupyter.widget-view+json": {
       "model_id": "cddf9454c7d6438091c08c826bc9d933",
       "version_major": 2,
       "version_minor": 0
      },
      "text/plain": [
       "[type: 3to5, size: 5, nt: 1, temp:10.0]:   0%|          | 0/1000 [00:00<?, ?it/s]"
      ]
     },
     "metadata": {},
     "output_type": "display_data"
    },
    {
     "data": {
      "application/vnd.jupyter.widget-view+json": {
       "model_id": "a884aedd27c64bd6b4d3bf386b094fe3",
       "version_major": 2,
       "version_minor": 0
      },
      "text/plain": [
       "[type: 3to5, size: 5, nt: 1, temp:-1.0]:   0%|          | 0/1000 [00:00<?, ?it/s]"
      ]
     },
     "metadata": {},
     "output_type": "display_data"
    },
    {
     "data": {
      "application/vnd.jupyter.widget-view+json": {
       "model_id": "98cfc8128dae4a79975bef7e859e54a5",
       "version_major": 2,
       "version_minor": 0
      },
      "text/plain": [
       "[type: 3to5, size: 5, nt: 2, temp:0.1]:   0%|          | 0/1000 [00:00<?, ?it/s]"
      ]
     },
     "metadata": {},
     "output_type": "display_data"
    },
    {
     "data": {
      "application/vnd.jupyter.widget-view+json": {
       "model_id": "0bff6a7df914415dbacf7e8e518b4c91",
       "version_major": 2,
       "version_minor": 0
      },
      "text/plain": [
       "[type: 3to5, size: 5, nt: 2, temp:0.5]:   0%|          | 0/1000 [00:00<?, ?it/s]"
      ]
     },
     "metadata": {},
     "output_type": "display_data"
    },
    {
     "data": {
      "application/vnd.jupyter.widget-view+json": {
       "model_id": "b472a256090946ecbe4d5022039620f1",
       "version_major": 2,
       "version_minor": 0
      },
      "text/plain": [
       "[type: 3to5, size: 5, nt: 2, temp:1.0]:   0%|          | 0/1000 [00:00<?, ?it/s]"
      ]
     },
     "metadata": {},
     "output_type": "display_data"
    },
    {
     "data": {
      "application/vnd.jupyter.widget-view+json": {
       "model_id": "c64cafa07f314306a72b85b503af33d2",
       "version_major": 2,
       "version_minor": 0
      },
      "text/plain": [
       "[type: 3to5, size: 5, nt: 2, temp:2.0]:   0%|          | 0/1000 [00:00<?, ?it/s]"
      ]
     },
     "metadata": {},
     "output_type": "display_data"
    },
    {
     "data": {
      "application/vnd.jupyter.widget-view+json": {
       "model_id": "6bc053995a2f41c580efc0056520e0d7",
       "version_major": 2,
       "version_minor": 0
      },
      "text/plain": [
       "[type: 3to5, size: 5, nt: 2, temp:10.0]:   0%|          | 0/1000 [00:00<?, ?it/s]"
      ]
     },
     "metadata": {},
     "output_type": "display_data"
    },
    {
     "data": {
      "application/vnd.jupyter.widget-view+json": {
       "model_id": "33fc3aa84fc2418a99b00f812e64b97d",
       "version_major": 2,
       "version_minor": 0
      },
      "text/plain": [
       "[type: 3to5, size: 5, nt: 2, temp:-1.0]:   0%|          | 0/1000 [00:00<?, ?it/s]"
      ]
     },
     "metadata": {},
     "output_type": "display_data"
    },
    {
     "data": {
      "application/vnd.jupyter.widget-view+json": {
       "model_id": "3e4dee3dee3d47c780181589481aa7a6",
       "version_major": 2,
       "version_minor": 0
      },
      "text/plain": [
       "[type: 3to5, size: 5, nt: 5, temp:0.1]:   0%|          | 0/1000 [00:00<?, ?it/s]"
      ]
     },
     "metadata": {},
     "output_type": "display_data"
    },
    {
     "data": {
      "application/vnd.jupyter.widget-view+json": {
       "model_id": "2324575c4a994c58ac97ad3f550b3e37",
       "version_major": 2,
       "version_minor": 0
      },
      "text/plain": [
       "[type: 3to5, size: 5, nt: 5, temp:0.5]:   0%|          | 0/1000 [00:00<?, ?it/s]"
      ]
     },
     "metadata": {},
     "output_type": "display_data"
    },
    {
     "data": {
      "application/vnd.jupyter.widget-view+json": {
       "model_id": "3a13575f9a56447cbc8a336480ba1c1e",
       "version_major": 2,
       "version_minor": 0
      },
      "text/plain": [
       "[type: 3to5, size: 5, nt: 5, temp:1.0]:   0%|          | 0/1000 [00:00<?, ?it/s]"
      ]
     },
     "metadata": {},
     "output_type": "display_data"
    },
    {
     "data": {
      "application/vnd.jupyter.widget-view+json": {
       "model_id": "a550d10bbe75455e819d9de73e8be78a",
       "version_major": 2,
       "version_minor": 0
      },
      "text/plain": [
       "[type: 3to5, size: 5, nt: 5, temp:2.0]:   0%|          | 0/1000 [00:00<?, ?it/s]"
      ]
     },
     "metadata": {},
     "output_type": "display_data"
    },
    {
     "data": {
      "application/vnd.jupyter.widget-view+json": {
       "model_id": "6e2d979dbbbc4e1d82d383a4c2d473c6",
       "version_major": 2,
       "version_minor": 0
      },
      "text/plain": [
       "[type: 3to5, size: 5, nt: 5, temp:10.0]:   0%|          | 0/1000 [00:00<?, ?it/s]"
      ]
     },
     "metadata": {},
     "output_type": "display_data"
    },
    {
     "data": {
      "application/vnd.jupyter.widget-view+json": {
       "model_id": "272bb63a384f4ca396fa7924244ea1db",
       "version_major": 2,
       "version_minor": 0
      },
      "text/plain": [
       "[type: 3to5, size: 5, nt: 5, temp:-1.0]:   0%|          | 0/1000 [00:00<?, ?it/s]"
      ]
     },
     "metadata": {},
     "output_type": "display_data"
    },
    {
     "data": {
      "application/vnd.jupyter.widget-view+json": {
       "model_id": "f4b812bed4104c30acb9cf0fd22431ed",
       "version_major": 2,
       "version_minor": 0
      },
      "text/plain": [
       "[type: 3to5, size: 5, nt: 10, temp:0.1]:   0%|          | 0/1000 [00:00<?, ?it/s]"
      ]
     },
     "metadata": {},
     "output_type": "display_data"
    },
    {
     "data": {
      "application/vnd.jupyter.widget-view+json": {
       "model_id": "ce7d0d07e7df45ba93f12cbd4ac2027d",
       "version_major": 2,
       "version_minor": 0
      },
      "text/plain": [
       "[type: 3to5, size: 5, nt: 10, temp:0.5]:   0%|          | 0/1000 [00:00<?, ?it/s]"
      ]
     },
     "metadata": {},
     "output_type": "display_data"
    },
    {
     "data": {
      "application/vnd.jupyter.widget-view+json": {
       "model_id": "ef711cb0fdaf4d11aee6a4b29bd74067",
       "version_major": 2,
       "version_minor": 0
      },
      "text/plain": [
       "[type: 3to5, size: 5, nt: 10, temp:1.0]:   0%|          | 0/1000 [00:00<?, ?it/s]"
      ]
     },
     "metadata": {},
     "output_type": "display_data"
    },
    {
     "data": {
      "application/vnd.jupyter.widget-view+json": {
       "model_id": "4a39971de7424e6a98207638cd40dea4",
       "version_major": 2,
       "version_minor": 0
      },
      "text/plain": [
       "[type: 3to5, size: 5, nt: 10, temp:2.0]:   0%|          | 0/1000 [00:00<?, ?it/s]"
      ]
     },
     "metadata": {},
     "output_type": "display_data"
    },
    {
     "data": {
      "application/vnd.jupyter.widget-view+json": {
       "model_id": "c7a072bc3d824cfb846b41c5742edae1",
       "version_major": 2,
       "version_minor": 0
      },
      "text/plain": [
       "[type: 3to5, size: 5, nt: 10, temp:10.0]:   0%|          | 0/1000 [00:00<?, ?it/s]"
      ]
     },
     "metadata": {},
     "output_type": "display_data"
    },
    {
     "data": {
      "application/vnd.jupyter.widget-view+json": {
       "model_id": "a33cc420eb4a490a83c214c4df67ba2f",
       "version_major": 2,
       "version_minor": 0
      },
      "text/plain": [
       "[type: 3to5, size: 5, nt: 10, temp:-1.0]:   0%|          | 0/1000 [00:00<?, ?it/s]"
      ]
     },
     "metadata": {},
     "output_type": "display_data"
    },
    {
     "data": {
      "application/vnd.jupyter.widget-view+json": {
       "model_id": "06c99387fd2d44c4886094c37fc53ee1",
       "version_major": 2,
       "version_minor": 0
      },
      "text/plain": [
       "[type: 3to5, size: 5, nt: 20, temp:0.1]:   0%|          | 0/1000 [00:00<?, ?it/s]"
      ]
     },
     "metadata": {},
     "output_type": "display_data"
    },
    {
     "data": {
      "application/vnd.jupyter.widget-view+json": {
       "model_id": "5621841c98ea4bac939cb30416ba78c4",
       "version_major": 2,
       "version_minor": 0
      },
      "text/plain": [
       "[type: 3to5, size: 5, nt: 20, temp:0.5]:   0%|          | 0/1000 [00:00<?, ?it/s]"
      ]
     },
     "metadata": {},
     "output_type": "display_data"
    },
    {
     "data": {
      "application/vnd.jupyter.widget-view+json": {
       "model_id": "dad4b50d49c64ec183be0bb55cc5198f",
       "version_major": 2,
       "version_minor": 0
      },
      "text/plain": [
       "[type: 3to5, size: 5, nt: 20, temp:1.0]:   0%|          | 0/1000 [00:00<?, ?it/s]"
      ]
     },
     "metadata": {},
     "output_type": "display_data"
    },
    {
     "data": {
      "application/vnd.jupyter.widget-view+json": {
       "model_id": "4ed5c2d0acb949649e32f58cd6e38a36",
       "version_major": 2,
       "version_minor": 0
      },
      "text/plain": [
       "[type: 3to5, size: 5, nt: 20, temp:2.0]:   0%|          | 0/1000 [00:00<?, ?it/s]"
      ]
     },
     "metadata": {},
     "output_type": "display_data"
    },
    {
     "data": {
      "application/vnd.jupyter.widget-view+json": {
       "model_id": "8e9437edcf0f42fd853a815ddeffd92c",
       "version_major": 2,
       "version_minor": 0
      },
      "text/plain": [
       "[type: 3to5, size: 5, nt: 20, temp:10.0]:   0%|          | 0/1000 [00:00<?, ?it/s]"
      ]
     },
     "metadata": {},
     "output_type": "display_data"
    },
    {
     "data": {
      "application/vnd.jupyter.widget-view+json": {
       "model_id": "d50e1a543165451182b92d67a1a8c869",
       "version_major": 2,
       "version_minor": 0
      },
      "text/plain": [
       "[type: 3to5, size: 5, nt: 20, temp:-1.0]:   0%|          | 0/1000 [00:00<?, ?it/s]"
      ]
     },
     "metadata": {},
     "output_type": "display_data"
    }
   ],
   "source": [
    "# model, obj, args, num_qubit = mysetup('3to5')\n",
    "df = pd.DataFrame(columns=['type', 'size', 'number of trial', 'temperature', 'seed', 'model answer', 'model energy', 'exact answer', 'exact energy'])\n",
    "\n",
    "# for _type in ['only3', '3to5']:\n",
    "for _type in ['3to5']:\n",
    "\n",
    "    model, obj, args, num_qubit, size_list = mysetup(_type)\n",
    "\n",
    "    # for size in size_list:\n",
    "    for size in [4, 5]:\n",
    "        for nt in [1, 2, 5, 10, 20]:\n",
    "            for temp in [0.1, 0.5, 1.0, 2.0, 10.0, -1.0]:\n",
    "        \n",
    "                if temp < 0:\n",
    "                    is_random = True\n",
    "                else:\n",
    "                    is_random = False\n",
    "        \n",
    "                for seed in tqdm(range(1000), desc=f'[type: {_type}, size: {size}, nt: {nt}, temp:{temp}]'):\n",
    "                    fix_seed(seed)\n",
    "                    adj, size, record = generate_data(args, num_clone=nt, seed=seed, device=model.device, size=size)\n",
    "                    result = Mysolver(obj, model, adj, record, args, num_try=nt, temperature=temp, is_print=False, random_token=is_random)\n",
    "        \n",
    "                    result = {key: result[key] for key in result if key in df.columns}\n",
    "                    result['type'] = _type\n",
    "                    result['size'] = size\n",
    "                    result['number of trial'] = nt\n",
    "                    result['temperature'] = temp\n",
    "                    result['seed'] = seed\n",
    "        \n",
    "                    df = pd.concat([df, pd.DataFrame([result])], ignore_index=True)\n",
    "\n",
    "            df.to_csv('./performance.csv')"
   ]
  },
  {
   "cell_type": "code",
   "execution_count": null,
   "id": "01c2b23e-b3f5-4cdd-a8ee-696f2243db25",
   "metadata": {},
   "outputs": [],
   "source": []
  },
  {
   "cell_type": "code",
   "execution_count": null,
   "id": "75af9abb-fccc-4bfc-b759-8a47ab2d2aaa",
   "metadata": {},
   "outputs": [],
   "source": []
  }
 ],
 "metadata": {
  "kernelspec": {
   "display_name": "Python (.env)",
   "language": "python",
   "name": ".env"
  },
  "language_info": {
   "codemirror_mode": {
    "name": "ipython",
    "version": 3
   },
   "file_extension": ".py",
   "mimetype": "text/x-python",
   "name": "python",
   "nbconvert_exporter": "python",
   "pygments_lexer": "ipython3",
   "version": "3.11.7"
  }
 },
 "nbformat": 4,
 "nbformat_minor": 5
}
