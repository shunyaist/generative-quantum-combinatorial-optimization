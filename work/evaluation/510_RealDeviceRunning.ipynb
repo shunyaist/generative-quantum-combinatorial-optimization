{
 "cells": [
  {
   "cell_type": "code",
   "execution_count": 29,
   "id": "0052234e-92c9-4ee9-9cdf-aa2afde9c489",
   "metadata": {
    "tags": []
   },
   "outputs": [],
   "source": [
    "import time\n",
    "import pickle\n",
    "from qiskit import QuantumCircuit\n",
    "from qiskit_braket_provider import BraketProvider"
   ]
  },
  {
   "cell_type": "code",
   "execution_count": 5,
   "id": "1893e5c0-6b48-4e72-9d29-1efc32ccb27d",
   "metadata": {
    "tags": []
   },
   "outputs": [],
   "source": [
    "with open('./501_GQCOCircuit.pkl', 'rb') as f:\n",
    "    qc_gqco = pickle.load(f)\n",
    "\n",
    "with open('./502_QAOACircuit.pkl', 'rb') as f:\n",
    "    qc_qaoa = pickle.load(f)"
   ]
  },
  {
   "cell_type": "markdown",
   "id": "0053932d-63e4-4e3b-ae0d-602372458f5e",
   "metadata": {},
   "source": [
    "## Setups"
   ]
  },
  {
   "cell_type": "code",
   "execution_count": 84,
   "id": "4cbe17d3-082d-4817-96ee-908aaef854cb",
   "metadata": {
    "tags": []
   },
   "outputs": [],
   "source": [
    "nshots = 3200"
   ]
  },
  {
   "cell_type": "code",
   "execution_count": 89,
   "id": "336d2d7a-10bb-4e7c-aeae-2915e0bd7405",
   "metadata": {
    "tags": []
   },
   "outputs": [],
   "source": [
    "def myrun(qc, device, nshots=10):\n",
    "    mytask = device.run(qc, shots=nshots)\n",
    "    task_id = mytask.task_id()\n",
    "    print(task_id)\n",
    "    retrieved_task = device.retrieve_job(task_id=task_id)\n",
    "    \n",
    "    status = retrieved_task.status().name\n",
    "    print('Status of quantum task:', status)\n",
    "    \n",
    "    # wait for job to complete\n",
    "    while status != 'DONE':\n",
    "        time.sleep(10)\n",
    "        status = retrieved_task.status().name\n",
    "        print('Status:', status)\n",
    "        \n",
    "    data = retrieved_task.result()\n",
    "    display(plot_histogram(data.get_counts()))"
   ]
  },
  {
   "cell_type": "markdown",
   "id": "87dada79-3947-492e-9b76-775b71b8aca1",
   "metadata": {},
   "source": [
    "## Run"
   ]
  },
  {
   "cell_type": "code",
   "execution_count": 85,
   "id": "33f701a4-c0e8-4e7e-a391-26e8e35a725b",
   "metadata": {
    "tags": []
   },
   "outputs": [
    {
     "data": {
      "text/plain": [
       "[BraketBackend[SV1], BraketBackend[TN1], BraketBackend[dm1]]"
      ]
     },
     "execution_count": 85,
     "metadata": {},
     "output_type": "execute_result"
    }
   ],
   "source": [
    "provider = BraketProvider()\n",
    "provider.backends(statuses=[\"ONLINE\"], types=[\"SIMULATOR\"])"
   ]
  },
  {
   "cell_type": "code",
   "execution_count": 86,
   "id": "b661a7d2-c684-4c01-a1d8-9a51a872a3fb",
   "metadata": {
    "tags": []
   },
   "outputs": [],
   "source": [
    "device = provider.get_backend(\"SV1\")"
   ]
  },
  {
   "cell_type": "code",
   "execution_count": 87,
   "id": "3028a9f9-9b96-4358-8825-38e678122887",
   "metadata": {
    "tags": []
   },
   "outputs": [
    {
     "data": {
      "text/html": [
       "<pre style=\"word-wrap: normal;white-space: pre;background: #fff0;line-height: 1.1;font-family: &quot;Courier New&quot;,Courier,monospace\">                                                                       »\n",
       "q_0: ──■───────────────────────────────────────────────────────────────»\n",
       "       │ZZ(π/3)                                       ┌───┐┌──────────┐»\n",
       "q_1: ──■──────────────────────────────────────────────┤ X ├┤ Rz(-π/3) ├»\n",
       "     ┌─────────┐┌─────────┐┌─────────┐┌─────────┐     └─┬─┘└──────────┘»\n",
       "q_2: ┤ Rz(π/5) ├┤ Ry(π/3) ├┤ Ry(π/3) ├┤ Ry(π/3) ├──■────■──────────────»\n",
       "     └──┬───┬──┘└─────────┘└─────────┘└─────────┘  │                   »\n",
       "q_3: ───┤ X ├──────────────────────────────────────┼───────────────────»\n",
       "        └───┘                                    ┌─┴─┐┌───┐            »\n",
       "q_4: ────────────────────────────────────────────┤ X ├┤ X ├────────────»\n",
       "                                                 └───┘└───┘            »\n",
       "«                         ┌───┐\n",
       "«q_0: ─■─────────■────────┤ X ├\n",
       "«      │         │ZZ(π/4) ├───┤\n",
       "«q_1: ─┼─────────■────────┤ X ├\n",
       "«      │ZZ(π/3)   ┌───┐   └───┘\n",
       "«q_2: ─■──────────┤ X ├────────\n",
       "«                 └───┘        \n",
       "«q_3: ─────────────────────────\n",
       "«                              \n",
       "«q_4: ─────────────────────────\n",
       "«                              </pre>"
      ],
      "text/plain": [
       "                                                                       »\n",
       "q_0: ──■───────────────────────────────────────────────────────────────»\n",
       "       │ZZ(π/3)                                       ┌───┐┌──────────┐»\n",
       "q_1: ──■──────────────────────────────────────────────┤ X ├┤ Rz(-π/3) ├»\n",
       "     ┌─────────┐┌─────────┐┌─────────┐┌─────────┐     └─┬─┘└──────────┘»\n",
       "q_2: ┤ Rz(π/5) ├┤ Ry(π/3) ├┤ Ry(π/3) ├┤ Ry(π/3) ├──■────■──────────────»\n",
       "     └──┬───┬──┘└─────────┘└─────────┘└─────────┘  │                   »\n",
       "q_3: ───┤ X ├──────────────────────────────────────┼───────────────────»\n",
       "        └───┘                                    ┌─┴─┐┌───┐            »\n",
       "q_4: ────────────────────────────────────────────┤ X ├┤ X ├────────────»\n",
       "                                                 └───┘└───┘            »\n",
       "«                         ┌───┐\n",
       "«q_0: ─■─────────■────────┤ X ├\n",
       "«      │         │ZZ(π/4) ├───┤\n",
       "«q_1: ─┼─────────■────────┤ X ├\n",
       "«      │ZZ(π/3)   ┌───┐   └───┘\n",
       "«q_2: ─■──────────┤ X ├────────\n",
       "«                 └───┘        \n",
       "«q_3: ─────────────────────────\n",
       "«                              \n",
       "«q_4: ─────────────────────────\n",
       "«                              "
      ]
     },
     "execution_count": 87,
     "metadata": {},
     "output_type": "execute_result"
    }
   ],
   "source": [
    "qc_gqco.draw()"
   ]
  },
  {
   "cell_type": "code",
   "execution_count": 88,
   "id": "1f9c8d1c-8d23-4688-91ac-4dd4cc3765e3",
   "metadata": {
    "tags": []
   },
   "outputs": [
    {
     "data": {
      "text/plain": [
       "<qiskit.circuit.instructionset.InstructionSet at 0x7fde45412110>"
      ]
     },
     "execution_count": 88,
     "metadata": {},
     "output_type": "execute_result"
    }
   ],
   "source": [
    "## We need to add x gate for each qubit because of error: ValidationException: An error occurred (ValidationException) when calling the CreateQuantumTask operation: Please make sure all qubits in the qubit register are used for tasks submitted to simulators\n",
    "qc_gqco.x(0)\n",
    "qc_gqco.x(1)\n",
    "qc_gqco.x(2)\n",
    "qc_gqco.x(3)\n",
    "qc_gqco.x(4)"
   ]
  },
  {
   "cell_type": "code",
   "execution_count": null,
   "id": "d5897fee-5805-4564-b251-7379fe02051f",
   "metadata": {
    "tags": []
   },
   "outputs": [
    {
     "name": "stdout",
     "output_type": "stream",
     "text": [
      "arn:aws:braket:us-east-1:025066270948:quantum-task/44f1d230-7429-4410-8436-048eec4e2891\n",
      "Status of quantum task: QUEUED\n"
     ]
    }
   ],
   "source": [
    "myrun(qc_gqco, device, nshots)"
   ]
  },
  {
   "cell_type": "code",
   "execution_count": 64,
   "id": "da569303-603a-45f1-9f0f-b0b1c3a273b6",
   "metadata": {
    "tags": []
   },
   "outputs": [
    {
     "name": "stdout",
     "output_type": "stream",
     "text": [
      "arn:aws:braket:us-east-1:025066270948:quantum-task/2bbf17ee-3a70-4d1a-954f-5f2e0ab84a19\n",
      "Status of quantum task: QUEUED\n",
      "Status: DONE\n"
     ]
    },
    {
     "data": {
      "image/png": "[encoded data removed]",
      "text/plain": [
       "<Figure size 640x480 with 1 Axes>"
      ]
     },
     "metadata": {},
     "output_type": "display_data"
    }
   ],
   "source": [
    "myrun(qc_qaoa, device, nshots)"
   ]
  },
  {
   "cell_type": "code",
   "execution_count": null,
   "id": "b56033a8-90c7-4f6c-bf22-f5c514cce4da",
   "metadata": {},
   "outputs": [],
   "source": []
  }
 ],
 "metadata": {
  "kernelspec": {
   "display_name": "Python (.env)",
   "language": "python",
   "name": ".env"
  },
  "language_info": {
   "codemirror_mode": {
    "name": "ipython",
    "version": 3
   },
   "file_extension": ".py",
   "mimetype": "text/x-python",
   "name": "python",
   "nbconvert_exporter": "python",
   "pygments_lexer": "ipython3",
   "version": "3.11.7"
  }
 },
 "nbformat": 4,
 "nbformat_minor": 5
}
